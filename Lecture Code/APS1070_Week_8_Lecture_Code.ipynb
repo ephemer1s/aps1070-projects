{
  "nbformat": 4,
  "nbformat_minor": 0,
  "metadata": {
    "colab": {
      "name": "APS1070 - Week 8 Lecture Code.ipynb",
      "provenance": [],
      "collapsed_sections": []
    },
    "kernelspec": {
      "display_name": "Python 3",
      "name": "python3"
    }
  },
  "cells": [
    {
      "cell_type": "markdown",
      "metadata": {
        "id": "MD1j2BeWPkgt"
      },
      "source": [
        "# APS1070 Week 8 Lecture Code\r\n",
        "## Application 1 - Background Removal\r\n",
        "\r\n",
        "This example will show how singular value decomposition can be used to remove a background from a video and also identify moving objects, in this case people in the images ([source](https://nbviewer.jupyter.org/github/fastai/numerical-linear-algebra/blob/master/nbs/3.%20Background%20Removal%20with%20Robust%20PCA.ipynb))."
      ]
    },
    {
      "cell_type": "code",
      "metadata": {
        "colab": {
          "resources": {
            "http://localhost:8080/nbextensions/google.colab/files.js": {
              "data": "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",
              "ok": true,
              "headers": [
                [
                  "content-type",
                  "application/javascript"
                ]
              ],
              "status": 200,
              "status_text": ""
            }
          },
          "base_uri": "https://localhost:8080/",
          "height": 73
        },
        "id": "P4xYawtrSkNX",
        "outputId": "6d91adb4-1f57-460d-ddaa-f9cc0331a003"
      },
      "source": [
        "# load \"test.mp4\" to Google Colab\r\n",
        "from google.colab import files\r\n",
        "uploaded = files.upload()"
      ],
      "execution_count": null,
      "outputs": [
        {
          "output_type": "display_data",
          "data": {
            "text/html": [
              "\n",
              "     <input type=\"file\" id=\"files-3b4e221a-9c4c-4ba2-a929-193d483a5051\" name=\"files[]\" multiple disabled\n",
              "        style=\"border:none\" />\n",
              "     <output id=\"result-3b4e221a-9c4c-4ba2-a929-193d483a5051\">\n",
              "      Upload widget is only available when the cell has been executed in the\n",
              "      current browser session. Please rerun this cell to enable.\n",
              "      </output>\n",
              "      <script src=\"/nbextensions/google.colab/files.js\"></script> "
            ],
            "text/plain": [
              "<IPython.core.display.HTML object>"
            ]
          },
          "metadata": {
            "tags": []
          }
        },
        {
          "output_type": "stream",
          "text": [
            "Saving test.mp4 to test.mp4\n"
          ],
          "name": "stdout"
        }
      ]
    },
    {
      "cell_type": "code",
      "metadata": {
        "id": "O3N-dE2NNbHI"
      },
      "source": [
        "# import required libraries\r\n",
        "import numpy as np\r\n",
        "import scipy\r\n",
        "import matplotlib.pyplot as plt\r\n",
        "\r\n",
        "import imageio\r\n",
        "import moviepy.editor as mpe\r\n",
        "from skimage.transform import resize"
      ],
      "execution_count": null,
      "outputs": []
    },
    {
      "cell_type": "code",
      "metadata": {
        "id": "GdfT72D6NBgm"
      },
      "source": [
        "# load the video\n",
        "video = mpe.VideoFileClip(\"test.mp4\") # file needs to be loaded"
      ],
      "execution_count": null,
      "outputs": []
    },
    {
      "cell_type": "code",
      "metadata": {
        "id": "G5edMmyVNBgm"
      },
      "source": [
        "# clip video to 20 seconds and display\r\n",
        "video = video.subclip(0,20)\r\n",
        "video.ipython_display()"
      ],
      "execution_count": null,
      "outputs": []
    },
    {
      "cell_type": "code",
      "metadata": {
        "id": "CVPzDwWMrL43",
        "colab": {
          "base_uri": "https://localhost:8080/"
        },
        "outputId": "58891a6c-436e-4c2c-ab18-0b140ab9710e"
      },
      "source": [
        "# display video details (duration, resolution, fps)\r\n",
        "video.duration, video.size, video.fps"
      ],
      "execution_count": null,
      "outputs": [
        {
          "output_type": "execute_result",
          "data": {
            "text/plain": [
              "(20, (1280, 720), 23.976023976023978)"
            ]
          },
          "metadata": {
            "tags": []
          },
          "execution_count": 5
        }
      ]
    },
    {
      "cell_type": "markdown",
      "metadata": {
        "id": "y5u4cFy2r33F"
      },
      "source": [
        "Helper Functions"
      ]
    },
    {
      "cell_type": "code",
      "metadata": {
        "id": "vlC1wFogriKj"
      },
      "source": [
        "# convert video to data matrix\r\n",
        "def create_data_matrix_from_video(clip, k, scale):\r\n",
        "    frames = []\r\n",
        "    for i in range(k * int(clip.duration)):\r\n",
        "        frame = clip.get_frame(i / float(k))\r\n",
        "        frame = rgb2grey(frame).astype(int)\r\n",
        "        #frame = resize(frame, (72,128)).flatten()\r\n",
        "        frame = resize(frame, (frame.shape[0]/scale,frame.shape[1]/scale)).flatten()\r\n",
        "        frames.append(frame)\r\n",
        "    return np.vstack(frames).T # stack images horizontally\r\n",
        "\r\n",
        "# covert colour frames to greyscale\r\n",
        "def rgb2grey(rgb):\r\n",
        "    return np.dot(rgb[..., :3], [0.299, 0.587, 0.114])\r\n",
        "\r\n",
        "def plot_images(M, A, E, index_array, dims, filename=None):\r\n",
        "    f = plt.figure(figsize=(15, 10))\r\n",
        "    r = len(index_array)\r\n",
        "    pics = r * 3\r\n",
        "    for k, i in enumerate(index_array):\r\n",
        "        for j, mat in enumerate([M, A, E]):\r\n",
        "            sp = f.add_subplot(r, 3, 3*k + j + 1)\r\n",
        "            sp.axis('Off')\r\n",
        "            if isinstance(pixels, scipy.sparse.csr_matrix):\r\n",
        "                pixels = pixels.todense()\r\n",
        "            plt.imshow(np.reshape(pixels, dims), cmap='gray')\r\n",
        "    return f"
      ],
      "execution_count": null,
      "outputs": []
    },
    {
      "cell_type": "markdown",
      "metadata": {
        "id": "NKhB5HNLr8Fp"
      },
      "source": [
        "Video Matrix - convert video to data matrix"
      ]
    },
    {
      "cell_type": "code",
      "metadata": {
        "colab": {
          "base_uri": "https://localhost:8080/"
        },
        "id": "DU8PEeznr6jH",
        "outputId": "10b18362-3b50-4cd2-a55d-75f8e73af6c7"
      },
      "source": [
        "# change resolution of image\r\n",
        "scale = 4 # scaling factor (1 means no scaling) CHANGE THIS FOR BETTER RESOLUTION\r\n",
        "original_width = video.size[1]\r\n",
        "original_height = video.size[0]\r\n",
        "\r\n",
        "dims = (int(original_width / scale), int(original_height / scale))\r\n",
        "dims # single frame dimensions (height x width)"
      ],
      "execution_count": null,
      "outputs": [
        {
          "output_type": "execute_result",
          "data": {
            "text/plain": [
              "(180, 320)"
            ]
          },
          "metadata": {
            "tags": []
          },
          "execution_count": 7
        }
      ]
    },
    {
      "cell_type": "code",
      "metadata": {
        "colab": {
          "base_uri": "https://localhost:8080/"
        },
        "id": "Ugbad0xYsEfU",
        "outputId": "a441714c-6b5d-4330-ebfe-7ea7fa142e22"
      },
      "source": [
        "fps = 20 #set frames per second\r\n",
        "M = create_data_matrix_from_video(video, fps, scale)\r\n",
        "np.save('video_matrix', M)\r\n",
        "M.shape, dims"
      ],
      "execution_count": null,
      "outputs": [
        {
          "output_type": "execute_result",
          "data": {
            "text/plain": [
              "((57600, 400), (180, 320))"
            ]
          },
          "metadata": {
            "tags": []
          },
          "execution_count": 8
        }
      ]
    },
    {
      "cell_type": "markdown",
      "metadata": {
        "id": "vyWGZy-3WTTS"
      },
      "source": [
        "An image from 1 moment in time is 180 pixels by 320 pixels (when scaled by 4 times). We can *unroll* that picture into a single tall column.\n",
        "\n",
        "This isn't very human-readable, but it's handy because it lets us stack the images from different times on top of one another, to put a video all into 1 matrix.  If we took the video image every 20th of a second for 20 seconds (so 400 different images, each from a different point in time), we'd have a $400 \\times 57600$ matrix, representing the video! "
      ]
    },
    {
      "cell_type": "code",
      "metadata": {
        "id": "l-Q9MNWsWTTU",
        "colab": {
          "base_uri": "https://localhost:8080/",
          "height": 240
        },
        "outputId": "3cce45a5-125a-47c4-91a9-19d8d1b58355"
      },
      "source": [
        "plt.imshow(np.reshape(M[:,100], dims), cmap='gray'); #100th sample frame"
      ],
      "execution_count": null,
      "outputs": [
        {
          "output_type": "display_data",
          "data": {
            "image/png": "[encoded data removed]",
            "text/plain": [
              "<Figure size 432x288 with 1 Axes>"
            ]
          },
          "metadata": {
            "tags": [],
            "needs_background": "light"
          }
        }
      ]
    },
    {
      "cell_type": "code",
      "metadata": {
        "id": "5Ai7Z6iJWTTY",
        "colab": {
          "base_uri": "https://localhost:8080/",
          "height": 342
        },
        "outputId": "470c9b4b-ba70-4d0f-c7f9-c938d6a97c70"
      },
      "source": [
        "plt.figure(figsize=(10, 5))\n",
        "plt.imshow(M, cmap='gray')"
      ],
      "execution_count": null,
      "outputs": [
        {
          "output_type": "execute_result",
          "data": {
            "text/plain": [
              "<matplotlib.image.AxesImage at 0x7f0a00008090>"
            ]
          },
          "metadata": {
            "tags": []
          },
          "execution_count": 11
        },
        {
          "output_type": "display_data",
          "data": {
            "image/png": "[encoded data removed]",
            "text/plain": [
              "<Figure size 720x360 with 1 Axes>"
            ]
          },
          "metadata": {
            "tags": [],
            "needs_background": "light"
          }
        }
      ]
    },
    {
      "cell_type": "markdown",
      "metadata": {
        "id": "a0HU87bAWTTa"
      },
      "source": [
        "### SVD"
      ]
    },
    {
      "cell_type": "code",
      "metadata": {
        "id": "7QQxMlrpWTTa"
      },
      "source": [
        "U, s, V = np.linalg.svd(M, full_matrices=False) # numpy SVD"
      ],
      "execution_count": null,
      "outputs": []
    },
    {
      "cell_type": "code",
      "metadata": {
        "id": "AZWqaMglWTTa"
      },
      "source": [
        "np.save(\"U.npy\", U)\n",
        "np.save(\"s.npy\", s)\n",
        "np.save(\"V.npy\", V)"
      ],
      "execution_count": null,
      "outputs": []
    },
    {
      "cell_type": "code",
      "metadata": {
        "id": "DgeEeQunWTTb"
      },
      "source": [
        "U = np.load(\"U.npy\")\n",
        "s = np.load(\"s.npy\")\n",
        "V = np.load(\"V.npy\")"
      ],
      "execution_count": null,
      "outputs": []
    },
    {
      "cell_type": "code",
      "metadata": {
        "id": "r-PqfH4iWTTc",
        "colab": {
          "base_uri": "https://localhost:8080/"
        },
        "outputId": "77a1ed07-742c-4d33-9186-d1bf19b33b87"
      },
      "source": [
        "U.shape, s.shape, V.shape"
      ],
      "execution_count": null,
      "outputs": [
        {
          "output_type": "execute_result",
          "data": {
            "text/plain": [
              "((57600, 400), (400,), (400, 400))"
            ]
          },
          "metadata": {
            "tags": []
          },
          "execution_count": 15
        }
      ]
    },
    {
      "cell_type": "markdown",
      "metadata": {
        "id": "t8UToY6rWTTc"
      },
      "source": [
        "We have 400 singular values.   \n",
        "1st vector of U, V and 1st singular value represents dimension with maximum explaination of our matrix. Guess what? Maximum variability of matrix is going to be defined by background "
      ]
    },
    {
      "cell_type": "markdown",
      "metadata": {
        "id": "4YmySSZaWTTd"
      },
      "source": [
        "We choose first 10 singular values and first 10 vectors of U,V. These vectors explain maximum variability of original matrix. That part represents the background. We use these vectors to reconstruct the low rank matrix of same shape as original matrix. If we use this reconstructed matrix to make the video. That video will only include background. Now we can get remaining foreground by just subracking low rank matrix from original matrix M. \n",
        "\n",
        "Choice of how many singular values to use depends on the quality of video"
      ]
    },
    {
      "cell_type": "code",
      "metadata": {
        "id": "7-LRkrqFWTTe",
        "colab": {
          "base_uri": "https://localhost:8080/"
        },
        "outputId": "7fe5f6cd-4ea4-46fb-e8e5-56364583de01"
      },
      "source": [
        "s[0]"
      ],
      "execution_count": null,
      "outputs": [
        {
          "output_type": "execute_result",
          "data": {
            "text/plain": [
              "6.220298613406783e-14"
            ]
          },
          "metadata": {
            "tags": []
          },
          "execution_count": 16
        }
      ]
    },
    {
      "cell_type": "code",
      "metadata": {
        "id": "Qo1y_unrWTTf"
      },
      "source": [
        "low_rank = (U[:,0:5] * s[0:5])@V[0:5,:]"
      ],
      "execution_count": null,
      "outputs": []
    },
    {
      "cell_type": "code",
      "metadata": {
        "id": "9zd4QVmEWTTf",
        "colab": {
          "base_uri": "https://localhost:8080/"
        },
        "outputId": "0855286c-4bd5-403b-d7a5-31b02881e100"
      },
      "source": [
        "low_rank.shape"
      ],
      "execution_count": null,
      "outputs": [
        {
          "output_type": "execute_result",
          "data": {
            "text/plain": [
              "(57600, 400)"
            ]
          },
          "metadata": {
            "tags": []
          },
          "execution_count": 18
        }
      ]
    },
    {
      "cell_type": "markdown",
      "metadata": {
        "id": "o7nRnILwjqAH"
      },
      "source": [
        "Display only the background of a sample frame"
      ]
    },
    {
      "cell_type": "code",
      "metadata": {
        "id": "04_4qeUkWTTh",
        "colab": {
          "base_uri": "https://localhost:8080/",
          "height": 240
        },
        "outputId": "5a423f85-c457-4c87-d28e-9582c9cf4bc1"
      },
      "source": [
        "plt.imshow(np.reshape(low_rank[:,100], dims), cmap='gray');"
      ],
      "execution_count": null,
      "outputs": [
        {
          "output_type": "display_data",
          "data": {
            "image/png": "[encoded data removed]",
            "text/plain": [
              "<Figure size 432x288 with 1 Axes>"
            ]
          },
          "metadata": {
            "tags": [],
            "needs_background": "light"
          }
        }
      ]
    },
    {
      "cell_type": "markdown",
      "metadata": {
        "id": "K5I41atVWTTi"
      },
      "source": [
        "As we can observe that person is now lost from our sample frame. If we subtract this low rank matrix from M matrix, we will get only foreground. i.e. person walking"
      ]
    },
    {
      "cell_type": "code",
      "metadata": {
        "id": "6eQbnwVjWTTi",
        "scrolled": true,
        "colab": {
          "base_uri": "https://localhost:8080/",
          "height": 240
        },
        "outputId": "7d2bd3ef-8ebf-4166-f30f-6c2d5ee0bc75"
      },
      "source": [
        "plt.imshow(np.reshape(M[:,100] - low_rank[:,100], dims), cmap='gray');"
      ],
      "execution_count": null,
      "outputs": [
        {
          "output_type": "display_data",
          "data": {
            "image/png": "[encoded data removed]",
            "text/plain": [
              "<Figure size 432x288 with 1 Axes>"
            ]
          },
          "metadata": {
            "tags": [],
            "needs_background": "light"
          }
        }
      ]
    },
    {
      "cell_type": "markdown",
      "metadata": {
        "id": "esXnblBKWTTj"
      },
      "source": [
        "### Video\r\n",
        "Create a video by subtracting background from each frame in the movie"
      ]
    },
    {
      "cell_type": "code",
      "metadata": {
        "id": "3Jb0bx7_WTTk"
      },
      "source": [
        "from moviepy.video.io.bindings import mplfig_to_npimage"
      ],
      "execution_count": null,
      "outputs": []
    },
    {
      "cell_type": "code",
      "metadata": {
        "id": "H02mzP9dWTTk"
      },
      "source": [
        "def make_video(matrix, dims, filename):\n",
        "    mat_reshaped = np.reshape(matrix, (dims[0], dims[1], -1))\n",
        "    \n",
        "    fig, ax = plt.subplots()\n",
        "    def make_frame(t):\n",
        "        ax.clear()\n",
        "        ax.imshow(mat_reshaped[...,int(t*fps)])\n",
        "        return mplfig_to_npimage(fig)\n",
        "    \n",
        "    animation = mpe.VideoClip(make_frame, duration=int(10)) #duration set to 10 seconds\n",
        "    animation.write_videofile( filename + '.mp4', fps=fps)"
      ],
      "execution_count": null,
      "outputs": []
    },
    {
      "cell_type": "code",
      "metadata": {
        "id": "2_OW4JqRWTTl",
        "colab": {
          "base_uri": "https://localhost:8080/",
          "height": 349
        },
        "outputId": "caf2f943-b530-46a5-dbe7-3c7723835438"
      },
      "source": [
        "# create video of pedestrians only\r\n",
        "make_video(M - low_rank, dims, \"ped\")"
      ],
      "execution_count": null,
      "outputs": [
        {
          "output_type": "stream",
          "text": [
            "[MoviePy] >>>> Building video ped.mp4\n",
            "[MoviePy] Writing video ped.mp4\n"
          ],
          "name": "stdout"
        },
        {
          "output_type": "stream",
          "text": [
            "100%|█████████▉| 200/201 [00:17<00:00, 11.18it/s]\n"
          ],
          "name": "stderr"
        },
        {
          "output_type": "stream",
          "text": [
            "[MoviePy] Done.\n",
            "[MoviePy] >>>> Video ready: ped.mp4 \n",
            "\n"
          ],
          "name": "stdout"
        },
        {
          "output_type": "display_data",
          "data": {
            "image/png": "[encoded data removed]",
            "text/plain": [
              "<Figure size 432x288 with 1 Axes>"
            ]
          },
          "metadata": {
            "tags": [],
            "needs_background": "light"
          }
        }
      ]
    },
    {
      "cell_type": "code",
      "metadata": {
        "id": "Wg557DL-WTTm"
      },
      "source": [
        "# save video\r\n",
        "mpe.VideoFileClip(\"ped.mp4\").subclip().ipython_display()"
      ],
      "execution_count": null,
      "outputs": []
    },
    {
      "cell_type": "markdown",
      "metadata": {
        "id": "evq9XPO_ouh_"
      },
      "source": [
        "This is only one of many approaches that can be used to achieve background removal from videos. "
      ]
    },
    {
      "cell_type": "markdown",
      "metadata": {
        "id": "JlurlpbBPyO8"
      },
      "source": [
        "## Application 2 - Movie Recommendations\r\n",
        "\r\n",
        "In our next example we will apply SVDs for making movie recommendations. ([source](https://analyticsindiamag.com/singular-value-decomposition-svd-application-recommender-system/)). There are many approaches for making movie recommendations. Here we will use the approach where given a movie title, we will use SVD to recommend similar movies based on user ratings."
      ]
    },
    {
      "cell_type": "markdown",
      "metadata": {
        "id": "lc9tIXvtqIr6"
      },
      "source": [
        "#### Toy Data\r\n",
        "To start let us look at a toy example from the MML textbook. To get a sense of what SVD is doing."
      ]
    },
    {
      "cell_type": "code",
      "metadata": {
        "id": "spWjqzwU1wg9"
      },
      "source": [
        "# import required libraries\r\n",
        "import numpy as np"
      ],
      "execution_count": null,
      "outputs": []
    },
    {
      "cell_type": "code",
      "metadata": {
        "colab": {
          "base_uri": "https://localhost:8080/"
        },
        "id": "pOhHo0Ul1_jo",
        "outputId": "00230db8-160f-4921-b248-03f6922853b7"
      },
      "source": [
        "# toy movie matrix\r\n",
        "ratings = [[5, 4, 1],\r\n",
        "           [5, 5, 0],\r\n",
        "           [0, 0, 5],\r\n",
        "           [1, 0, 4]]\r\n",
        "\r\n",
        "ratings = np.array(ratings)\r\n",
        "ratings"
      ],
      "execution_count": null,
      "outputs": [
        {
          "output_type": "execute_result",
          "data": {
            "text/plain": [
              "array([[5, 4, 1],\n",
              "       [5, 5, 0],\n",
              "       [0, 0, 5],\n",
              "       [1, 0, 4]])"
            ]
          },
          "metadata": {
            "tags": []
          },
          "execution_count": 65
        }
      ]
    },
    {
      "cell_type": "markdown",
      "metadata": {
        "id": "fs3LpkpT7wnI"
      },
      "source": [
        "obtain SVD from toy ratings matrix"
      ]
    },
    {
      "cell_type": "code",
      "metadata": {
        "id": "U4DhHLSt2Zgr"
      },
      "source": [
        "U, S, V = np.linalg.svd(ratings)"
      ],
      "execution_count": null,
      "outputs": []
    },
    {
      "cell_type": "code",
      "metadata": {
        "colab": {
          "base_uri": "https://localhost:8080/"
        },
        "id": "CkR_aFVX2jdH",
        "outputId": "924a8acf-2973-4205-8f8a-62cf668f857e"
      },
      "source": [
        "U, S, V"
      ],
      "execution_count": null,
      "outputs": [
        {
          "output_type": "execute_result",
          "data": {
            "text/plain": [
              "(array([[-0.67096878,  0.02362898, -0.46466034, -0.57735027],\n",
              "        [-0.7197425 ,  0.20541998,  0.47585716,  0.46188022],\n",
              "        [-0.09389374, -0.77048084,  0.52682373, -0.34641016],\n",
              "        [-0.15151103, -0.6029955 , -0.52925183,  0.57735027]]),\n",
              " array([9.6438109 , 6.36389089, 0.70555232]),\n",
              " array([[-0.73674894, -0.65146317, -0.1810987 ],\n",
              "        [ 0.0852072 ,  0.17624687, -0.9806512 ],\n",
              "        [-0.67077622,  0.73792464,  0.07434034]]))"
            ]
          },
          "metadata": {
            "tags": []
          },
          "execution_count": 68
        }
      ]
    },
    {
      "cell_type": "markdown",
      "metadata": {
        "id": "GooYIhYk73hv"
      },
      "source": [
        "reconstruction using first singular value"
      ]
    },
    {
      "cell_type": "code",
      "metadata": {
        "colab": {
          "base_uri": "https://localhost:8080/"
        },
        "id": "F2WxxBbF6NGG",
        "outputId": "98789936-bf81-4766-cc03-6308dd825857"
      },
      "source": [
        "# reconstruction using first singular value\r\n",
        "u1 = U[:,0:1]\r\n",
        "v1 = V[0:1,:]\r\n",
        "A1 = S[0]*u1@v1\r\n",
        "A1"
      ],
      "execution_count": null,
      "outputs": [
        {
          "output_type": "execute_result",
          "data": {
            "text/plain": [
              "array([[4.76727846, 4.21542018, 1.17183466],\n",
              "       [5.11381898, 4.52184531, 1.25701705],\n",
              "       [0.66712138, 0.58989567, 0.1639837 ],\n",
              "       [1.0764961 , 0.95188134, 0.26461123]])"
            ]
          },
          "metadata": {
            "tags": []
          },
          "execution_count": 111
        }
      ]
    },
    {
      "cell_type": "markdown",
      "metadata": {
        "id": "6A554QqQ8rcA"
      },
      "source": [
        "reconstruction using second singular value"
      ]
    },
    {
      "cell_type": "code",
      "metadata": {
        "colab": {
          "base_uri": "https://localhost:8080/"
        },
        "id": "yavT1lsd8rcB",
        "outputId": "be8da545-06b4-41b7-b0d2-9ab0fc953d3d"
      },
      "source": [
        "u2 = U[:,1:2]\r\n",
        "v2 = V[1:2,:]\r\n",
        "A2 = S[1]*u2@v2\r\n",
        "A2"
      ],
      "execution_count": null,
      "outputs": [
        {
          "output_type": "execute_result",
          "data": {
            "text/plain": [
              "array([[ 0.0128128 ,  0.02650264, -0.14746276],\n",
              "       [ 0.11138885,  0.23040231, -1.28197623],\n",
              "       [-0.41779272, -0.86418352,  4.80838387],\n",
              "       [-0.32697391, -0.67632931,  3.76314855]])"
            ]
          },
          "metadata": {
            "tags": []
          },
          "execution_count": 112
        }
      ]
    },
    {
      "cell_type": "markdown",
      "metadata": {
        "id": "iWGfv-FM87u8"
      },
      "source": [
        "reconstruction using third singular value"
      ]
    },
    {
      "cell_type": "code",
      "metadata": {
        "colab": {
          "base_uri": "https://localhost:8080/"
        },
        "id": "9lSNMM1g87u9",
        "outputId": "90fdba1e-6804-4357-ec04-61db72cdf543"
      },
      "source": [
        "# reconstruction using first singular value\r\n",
        "u3 = U[:,2:3]\r\n",
        "v3 = V[2:3,:]\r\n",
        "A3 = S[2]*u3@v3\r\n",
        "A3"
      ],
      "execution_count": null,
      "outputs": [
        {
          "output_type": "execute_result",
          "data": {
            "text/plain": [
              "array([[ 0.21990874, -0.24192282, -0.0243719 ],\n",
              "       [-0.22520783,  0.24775239,  0.02495918],\n",
              "       [-0.24932866,  0.27428785,  0.02763243],\n",
              "       [ 0.2504778 , -0.27555202, -0.02775979]])"
            ]
          },
          "metadata": {
            "tags": []
          },
          "execution_count": 114
        }
      ]
    },
    {
      "cell_type": "markdown",
      "metadata": {
        "id": "lKYpt5lG9M_d"
      },
      "source": [
        "By examining A1, A2, and A3 we can see that A1 captures the intersection of scifi-ness (scifi movies and fans). Similarly A2 captures the intersection of French-ness (French movie theme and user fans). Lastly, A3 seems to capture something more subtle that's not as easy to interpret.\r\n",
        "\r\n",
        "Let us examine what happens if we combine A1 and A2 and how it compares to the original ratings."
      ]
    },
    {
      "cell_type": "code",
      "metadata": {
        "colab": {
          "base_uri": "https://localhost:8080/"
        },
        "id": "295jV1jL8qr9",
        "outputId": "53c106cd-0869-45d9-b8a5-b3ee4b6996e6"
      },
      "source": [
        "np.round(A1+A2)"
      ],
      "execution_count": null,
      "outputs": [
        {
          "output_type": "execute_result",
          "data": {
            "text/plain": [
              "array([[ 5.,  4.,  1.],\n",
              "       [ 5.,  5., -0.],\n",
              "       [ 0., -0.,  5.],\n",
              "       [ 1.,  0.,  4.]])"
            ]
          },
          "metadata": {
            "tags": []
          },
          "execution_count": 122
        }
      ]
    },
    {
      "cell_type": "markdown",
      "metadata": {
        "id": "FSmAIDoSA1tP"
      },
      "source": [
        "Adding A1 and A2 seems to provide a reasonable estimate for A.\r\n"
      ]
    },
    {
      "cell_type": "markdown",
      "metadata": {
        "id": "ro_C5Uuv9gLt"
      },
      "source": [
        "we can also reconstruction A using U, S and V"
      ]
    },
    {
      "cell_type": "code",
      "metadata": {
        "colab": {
          "base_uri": "https://localhost:8080/"
        },
        "id": "zwB5FAr23aBR",
        "outputId": "88ca2a22-6c80-4d26-c78f-7d63008ef3df"
      },
      "source": [
        "# construct diagonal singular matrix\r\n",
        "n = len(S)\r\n",
        "S_diag = np.zeros((4, 3))\r\n",
        "S_diag[:n,:n] = np.diag(S)\r\n",
        "S_diag"
      ],
      "execution_count": null,
      "outputs": [
        {
          "output_type": "execute_result",
          "data": {
            "text/plain": [
              "array([[9.6438109 , 0.        , 0.        ],\n",
              "       [0.        , 6.36389089, 0.        ],\n",
              "       [0.        , 0.        , 0.70555232],\n",
              "       [0.        , 0.        , 0.        ]])"
            ]
          },
          "metadata": {
            "tags": []
          },
          "execution_count": 117
        }
      ]
    },
    {
      "cell_type": "code",
      "metadata": {
        "colab": {
          "base_uri": "https://localhost:8080/"
        },
        "id": "uEd1l3C65f1g",
        "outputId": "2d4238a2-7295-49eb-b298-4b55b2fa4dfb"
      },
      "source": [
        "# reconstruct original ratings matrix\r\n",
        "A = U@S_diag@V\r\n",
        "np.round(A)"
      ],
      "execution_count": null,
      "outputs": [
        {
          "output_type": "execute_result",
          "data": {
            "text/plain": [
              "array([[ 5.,  4.,  1.],\n",
              "       [ 5.,  5., -0.],\n",
              "       [ 0., -0.,  5.],\n",
              "       [ 1.,  0.,  4.]])"
            ]
          },
          "metadata": {
            "tags": []
          },
          "execution_count": 120
        }
      ]
    },
    {
      "cell_type": "markdown",
      "metadata": {
        "id": "oLTzoFrQ-Krm"
      },
      "source": [
        "The above toy dataset shows how we can manipulate the results from and SVD to reconstruct our rectangular data matrices. "
      ]
    },
    {
      "cell_type": "markdown",
      "metadata": {
        "id": "RaLetYyCHhX2"
      },
      "source": [
        "#### Large Movie Dataset\r\n",
        "Let us now apply SVD to a reasonably large data set of movie ratings to see if we can obtain some recommendations."
      ]
    },
    {
      "cell_type": "code",
      "metadata": {
        "colab": {
          "resources": {
            "http://localhost:8080/nbextensions/google.colab/files.js": {
              "data": "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",
              "ok": true,
              "headers": [
                [
                  "content-type",
                  "application/javascript"
                ]
              ],
              "status": 200,
              "status_text": ""
            }
          },
          "base_uri": "https://localhost:8080/",
          "height": 108
        },
        "id": "w0PYprejBoJ_",
        "outputId": "b70fdbc4-2f6f-42de-98a0-aba4f3017118"
      },
      "source": [
        "# load multiple files: \"ratings.dat\" and \"movies.dat\" to Google Colab\r\n",
        "from google.colab import files\r\n",
        "uploaded = files.upload()"
      ],
      "execution_count": 1,
      "outputs": [
        {
          "output_type": "display_data",
          "data": {
            "text/html": [
              "\n",
              "     <input type=\"file\" id=\"files-490f3915-dda4-4f59-ae68-304bb128b4ea\" name=\"files[]\" multiple disabled\n",
              "        style=\"border:none\" />\n",
              "     <output id=\"result-490f3915-dda4-4f59-ae68-304bb128b4ea\">\n",
              "      Upload widget is only available when the cell has been executed in the\n",
              "      current browser session. Please rerun this cell to enable.\n",
              "      </output>\n",
              "      <script src=\"/nbextensions/google.colab/files.js\"></script> "
            ],
            "text/plain": [
              "<IPython.core.display.HTML object>"
            ]
          },
          "metadata": {
            "tags": []
          }
        },
        {
          "output_type": "stream",
          "text": [
            "Saving movies.dat to movies.dat\n",
            "Saving ratings.dat to ratings.dat\n"
          ],
          "name": "stdout"
        }
      ]
    },
    {
      "cell_type": "code",
      "metadata": {
        "id": "qXzk09iLHkdl"
      },
      "source": [
        "# load common libraries\r\n",
        "import numpy as np\r\n",
        "import pandas as pd"
      ],
      "execution_count": 2,
      "outputs": []
    },
    {
      "cell_type": "code",
      "metadata": {
        "id": "hriUfEq8QBN9"
      },
      "source": [
        "# load movie data\r\n",
        "data = pd.io.parsers.read_csv('ratings.dat', \r\n",
        "    names=['user_id', 'movie_id', 'rating', 'time'],\r\n",
        "    engine='python', delimiter='::')\r\n",
        "\r\n",
        "movie_data = pd.io.parsers.read_csv('movies.dat',\r\n",
        "    names=['movie_id', 'title', 'genre'],\r\n",
        "    engine='python', delimiter='::')"
      ],
      "execution_count": 3,
      "outputs": []
    },
    {
      "cell_type": "code",
      "metadata": {
        "id": "B5FibEV-QN1c",
        "colab": {
          "base_uri": "https://localhost:8080/"
        },
        "outputId": "d88c201f-ae0c-477a-fa5b-a52ecfc0e128"
      },
      "source": [
        "# determine number of movies and users\r\n",
        "num_movies = np.max(data.movie_id.values)\r\n",
        "num_users = np.max(data.user_id.values)\r\n",
        "\r\n",
        "# initialize a rating matrix\r\n",
        "ratings_mat = np.zeros((num_movies, num_users))\r\n",
        "\r\n",
        "# display dimensions\r\n",
        "print('Num Movies: ', num_movies)\r\n",
        "print('Num Users: ', num_users)\r\n",
        "print('Ratings Matrix: ', ratings_mat.shape)"
      ],
      "execution_count": 4,
      "outputs": [
        {
          "output_type": "stream",
          "text": [
            "Num Movies:  3952\n",
            "Num Users:  6040\n",
            "Ratings Matrix:  (3952, 6040)\n"
          ],
          "name": "stdout"
        }
      ]
    },
    {
      "cell_type": "code",
      "metadata": {
        "colab": {
          "base_uri": "https://localhost:8080/"
        },
        "id": "oA729V3h7XZk",
        "outputId": "cbfe1f3b-ff11-4f6e-dd1d-a8ff2ef9a40c"
      },
      "source": [
        "ratings_mat"
      ],
      "execution_count": 5,
      "outputs": [
        {
          "output_type": "execute_result",
          "data": {
            "text/plain": [
              "array([[0., 0., 0., ..., 0., 0., 0.],\n",
              "       [0., 0., 0., ..., 0., 0., 0.],\n",
              "       [0., 0., 0., ..., 0., 0., 0.],\n",
              "       ...,\n",
              "       [0., 0., 0., ..., 0., 0., 0.],\n",
              "       [0., 0., 0., ..., 0., 0., 0.],\n",
              "       [0., 0., 0., ..., 0., 0., 0.]])"
            ]
          },
          "metadata": {
            "tags": []
          },
          "execution_count": 5
        }
      ]
    },
    {
      "cell_type": "code",
      "metadata": {
        "id": "jHKWy0SFyfMS"
      },
      "source": [
        "# movies and user start at 1, adjust to start at 0\r\n",
        "ratings_mat[data.movie_id.values-1, data.user_id.values-1] = data.rating.values"
      ],
      "execution_count": 6,
      "outputs": []
    },
    {
      "cell_type": "code",
      "metadata": {
        "id": "vvcaolc5QTWe"
      },
      "source": [
        "# flip dimensions so it is users x movies\r\n",
        "A = ratings_mat.T\r\n",
        "\r\n",
        "# apply svd\r\n",
        "U, S, V = np.linalg.svd(A)"
      ],
      "execution_count": 8,
      "outputs": []
    },
    {
      "cell_type": "markdown",
      "metadata": {
        "id": "ZeN5dh8f3gI8"
      },
      "source": [
        "Helper Functions"
      ]
    },
    {
      "cell_type": "code",
      "metadata": {
        "id": "rsQe3FeuQUhH"
      },
      "source": [
        "# use cosine similarity to find indices of similar movies\r\n",
        "def top_cosine_similarity(data, movie_id, top_n=10):\r\n",
        "    index = movie_id - 1 # Movie id starts from 1 in the dataset\r\n",
        "    movie_row = data[index, :]\r\n",
        "    magnitude = np.sqrt(np.einsum('ij, ij -> i', data, data))\r\n",
        "    similarity = np.dot(movie_row, data.T) / (magnitude[index] * magnitude)\r\n",
        "    sort_indices = np.argsort(-similarity)\r\n",
        "    return sort_indices[:top_n]\r\n",
        "\r\n",
        "# find movies by indices\r\n",
        "def print_similar_movies(movie_data, movie_id, top_indices):\r\n",
        "    print('Recommendations for {0}: \\n'.format(\r\n",
        "    movie_data[movie_data.movie_id == movie_id].title.values[0]))\r\n",
        "    for id in top_indices + 1:\r\n",
        "        print(movie_data[movie_data.movie_id == id].title.values[0])"
      ],
      "execution_count": 9,
      "outputs": []
    },
    {
      "cell_type": "code",
      "metadata": {
        "id": "Y1BHBWaCQYC9",
        "colab": {
          "base_uri": "https://localhost:8080/"
        },
        "outputId": "ee283a9d-89ce-4c9b-eebf-abcddb197846"
      },
      "source": [
        "# obtain a list of movies by representing them using k components\r\n",
        "k = 50\r\n",
        "movie_id = 10 # (getting an id from movies.dat)\r\n",
        "top_n = 10\r\n",
        "sliced = V.T[:, :k] # representative data\r\n",
        "\r\n",
        "# list movies\r\n",
        "indices = top_cosine_similarity(sliced, movie_id, top_n)\r\n",
        "print_similar_movies(movie_data, movie_id, indices)\r\n",
        "\r\n",
        "# sample movie indices based on movies.dat file\r\n",
        "# 10 - GoldenEye, \r\n",
        "# 1200 - Aliens, \r\n",
        "# 1214 - Alien, \r\n",
        "# 1196 - Star Wars Episode V, \r\n",
        "# 1207 - To Kill a Mockingbird"
      ],
      "execution_count": 12,
      "outputs": [
        {
          "output_type": "stream",
          "text": [
            "Recommendations for GoldenEye (1995): \n",
            "\n",
            "GoldenEye (1995)\n",
            "Tomorrow Never Dies (1997)\n",
            "World Is Not Enough, The (1999)\n",
            "Mission: Impossible (1996)\n",
            "Mask of Zorro, The (1998)\n",
            "Licence to Kill (1989)\n",
            "Rush Hour (1998)\n",
            "Enemy of the State (1998)\n",
            "Clear and Present Danger (1994)\n",
            "Rock, The (1996)\n"
          ],
          "name": "stdout"
        },
        {
          "output_type": "stream",
          "text": [
            "/usr/local/lib/python3.7/dist-packages/ipykernel_launcher.py:6: RuntimeWarning: invalid value encountered in true_divide\n",
            "  \n"
          ],
          "name": "stderr"
        }
      ]
    },
    {
      "cell_type": "markdown",
      "metadata": {
        "id": "xk6kbvG3RsN9"
      },
      "source": [
        "Normally we would not apply SVD unless we had accurate information for all the ratings. By providing a zero rating, we are in a sense creating poor ratings for a large number of movies. Even so, it seems to do reasonably well.\r\n",
        "\r\n",
        "We will revisit this problem when we talk about optimization (requires vector calculus) to show how we can better approximate the ratings."
      ]
    },
    {
      "cell_type": "markdown",
      "metadata": {
        "id": "WJuQPjmoGg33"
      },
      "source": [
        "## Application 3 - Topic Extraction\r\n",
        "\r\n",
        "In this example we will look into how PCA can be used to identify representative topics from a large data set of news articles ([source](https://nbviewer.jupyter.org/github/fastai/numerical-linear-algebra/blob/master/nbs/2.%20Topic%20Modeling%20with%20NMF%20and%20SVD.ipynb))."
      ]
    },
    {
      "cell_type": "code",
      "metadata": {
        "id": "ZPoRSe4THNgj"
      },
      "source": [
        "# import common libraries\r\n",
        "import numpy as np\r\n",
        "from sklearn.datasets import fetch_20newsgroups\r\n",
        "from sklearn import decomposition\r\n",
        "from scipy import linalg\r\n",
        "import matplotlib.pyplot as plt"
      ],
      "execution_count": null,
      "outputs": []
    },
    {
      "cell_type": "code",
      "metadata": {
        "id": "L7MZP8FqI15-"
      },
      "source": [
        "# load news groups from sklearn builtin datasets\r\n",
        "categories = ['alt.atheism', 'comp.graphics', 'sci.space', 'talk.religion.misc']\r\n",
        "remove = ('headers', 'footers', 'quotes')\r\n",
        "newsgroups_train = fetch_20newsgroups(subset='train', categories=categories, remove=remove)\r\n",
        "newsgroups_test = fetch_20newsgroups(subset='test', categories=categories, remove=remove)"
      ],
      "execution_count": null,
      "outputs": []
    },
    {
      "cell_type": "code",
      "metadata": {
        "id": "xMncyJ_zI8XE",
        "colab": {
          "base_uri": "https://localhost:8080/"
        },
        "outputId": "191a4f27-cf81-40ee-c0d6-03796db72223"
      },
      "source": [
        "newsgroups_train.filenames[:5]"
      ],
      "execution_count": null,
      "outputs": [
        {
          "output_type": "execute_result",
          "data": {
            "text/plain": [
              "array(['/root/scikit_learn_data/20news_home/20news-bydate-train/comp.graphics/38816',\n",
              "       '/root/scikit_learn_data/20news_home/20news-bydate-train/talk.religion.misc/83741',\n",
              "       '/root/scikit_learn_data/20news_home/20news-bydate-train/sci.space/61092',\n",
              "       '/root/scikit_learn_data/20news_home/20news-bydate-train/alt.atheism/51306',\n",
              "       '/root/scikit_learn_data/20news_home/20news-bydate-train/sci.space/60903'],\n",
              "      dtype='<U86')"
            ]
          },
          "metadata": {
            "tags": []
          },
          "execution_count": 39
        }
      ]
    },
    {
      "cell_type": "code",
      "metadata": {
        "id": "j48NhVd4I92k",
        "colab": {
          "base_uri": "https://localhost:8080/"
        },
        "outputId": "b63ccdb7-efe4-4eaf-8805-74b9a6eb78f7"
      },
      "source": [
        "newsgroups_train.target[:5]\r\n",
        "\r\n",
        "#check order of labels"
      ],
      "execution_count": null,
      "outputs": [
        {
          "output_type": "execute_result",
          "data": {
            "text/plain": [
              "array([1, 3, 2, 0, 2])"
            ]
          },
          "metadata": {
            "tags": []
          },
          "execution_count": 43
        }
      ]
    },
    {
      "cell_type": "code",
      "metadata": {
        "id": "LA_NzUndJEeJ",
        "colab": {
          "base_uri": "https://localhost:8080/"
        },
        "outputId": "9210de6a-7d4d-4231-d2d3-ff652cf1ef8d"
      },
      "source": [
        "newsgroups_train.filenames.shape, newsgroups_train.target.shape"
      ],
      "execution_count": null,
      "outputs": [
        {
          "output_type": "execute_result",
          "data": {
            "text/plain": [
              "((2034,), (2034,))"
            ]
          },
          "metadata": {
            "tags": []
          },
          "execution_count": 44
        }
      ]
    },
    {
      "cell_type": "code",
      "metadata": {
        "id": "6NrFSWTRJHva",
        "colab": {
          "base_uri": "https://localhost:8080/"
        },
        "outputId": "d950a6f2-29e8-4497-d46a-3867cb63fa14"
      },
      "source": [
        "# topic from computer graphics\r\n",
        "print('\\n'.join(newsgroups_train.data[:1]))"
      ],
      "execution_count": null,
      "outputs": [
        {
          "output_type": "stream",
          "text": [
            "Hi,\n",
            "\n",
            "I've noticed that if you only save a model (with all your mapping planes\n",
            "positioned carefully) to a .3DS file that when you reload it after restarting\n",
            "3DS, they are given a default position and orientation.  But if you save\n",
            "to a .PRJ file their positions/orientation are preserved.  Does anyone\n",
            "know why this information is not stored in the .3DS file?  Nothing is\n",
            "explicitly said in the manual about saving texture rules in the .PRJ file. \n",
            "I'd like to be able to read the texture rule information, does anyone have \n",
            "the format for the .PRJ file?\n",
            "\n",
            "Is the .CEL file format available from somewhere?\n",
            "\n",
            "Rych\n"
          ],
          "name": "stdout"
        }
      ]
    },
    {
      "cell_type": "code",
      "metadata": {
        "colab": {
          "base_uri": "https://localhost:8080/"
        },
        "id": "ZWsboBurJLFg",
        "outputId": "8e674561-a18d-4b79-dd79-0300f28f909e"
      },
      "source": [
        "# topic about science and space\r\n",
        "print('\\n'.join(newsgroups_train.data[2:3]))"
      ],
      "execution_count": null,
      "outputs": [
        {
          "output_type": "stream",
          "text": [
            "\n",
            " >In article <1993Apr19.020359.26996@sq.sq.com>, msb@sq.sq.com (Mark Brader) \n",
            "\n",
            "MB>                                                             So the\n",
            "MB> 1970 figure seems unlikely to actually be anything but a perijove.\n",
            "\n",
            "JG>Sorry, _perijoves_...I'm not used to talking this language.\n",
            "\n",
            "Couldn't we just say periapsis or apoapsis?\n",
            "\n",
            " \n"
          ],
          "name": "stdout"
        }
      ]
    },
    {
      "cell_type": "code",
      "metadata": {
        "id": "NQrc777UJQVy",
        "colab": {
          "base_uri": "https://localhost:8080/"
        },
        "outputId": "44a09bfc-25a4-4f02-bffe-81ed53842b5f"
      },
      "source": [
        "newsgroups_train.target_names"
      ],
      "execution_count": null,
      "outputs": [
        {
          "output_type": "execute_result",
          "data": {
            "text/plain": [
              "['alt.atheism', 'comp.graphics', 'sci.space', 'talk.religion.misc']"
            ]
          },
          "metadata": {
            "tags": []
          },
          "execution_count": 50
        }
      ]
    },
    {
      "cell_type": "code",
      "metadata": {
        "id": "q38AQXz7JUtl",
        "colab": {
          "base_uri": "https://localhost:8080/"
        },
        "outputId": "621219ad-c68b-45d0-e065-6c65631714b9"
      },
      "source": [
        "# confirming from target names\r\n",
        "\r\n",
        "np.array(newsgroups_train.target_names)[newsgroups_train.target[:3]]"
      ],
      "execution_count": null,
      "outputs": [
        {
          "output_type": "execute_result",
          "data": {
            "text/plain": [
              "array(['comp.graphics', 'talk.religion.misc', 'sci.space'], dtype='<U18')"
            ]
          },
          "metadata": {
            "tags": []
          },
          "execution_count": 49
        }
      ]
    },
    {
      "cell_type": "markdown",
      "metadata": {
        "id": "yM211xZgIvWd"
      },
      "source": [
        "Next, scikit learn has a method that will extract all the word counts for us."
      ]
    },
    {
      "cell_type": "code",
      "metadata": {
        "id": "twQjhleIIvWe"
      },
      "source": [
        "from sklearn.feature_extraction.text import CountVectorizer, TfidfVectorizer"
      ],
      "execution_count": null,
      "outputs": []
    },
    {
      "cell_type": "code",
      "metadata": {
        "colab": {
          "base_uri": "https://localhost:8080/"
        },
        "id": "Em_Bqzp0IvWe",
        "scrolled": true,
        "outputId": "107c9675-1bd1-4822-c0f7-fd5b81b72c95"
      },
      "source": [
        "vectorizer = CountVectorizer(stop_words='english')\n",
        "vectors = vectorizer.fit_transform(newsgroups_train.data).todense() # (documents, vocab)\n",
        "vectors.shape #, vectors.nnz / vectors.shape[0], row_means.shape"
      ],
      "execution_count": null,
      "outputs": [
        {
          "output_type": "execute_result",
          "data": {
            "text/plain": [
              "(2034, 26576)"
            ]
          },
          "metadata": {
            "tags": []
          },
          "execution_count": 54
        }
      ]
    },
    {
      "cell_type": "markdown",
      "metadata": {
        "id": "JNkxr1-oIvWf"
      },
      "source": [
        "`columns` represent unique words  \n",
        "`rows` represent number of documents   \n",
        "`cells` represent number of occurence of word in document i  "
      ]
    },
    {
      "cell_type": "code",
      "metadata": {
        "id": "yu8D3VJQIvWf"
      },
      "source": [
        "# get all words unique words from corpus of docs\n",
        "vocab = np.array(vectorizer.get_feature_names())"
      ],
      "execution_count": null,
      "outputs": []
    },
    {
      "cell_type": "code",
      "metadata": {
        "id": "q_DrcAVCIvWf",
        "colab": {
          "base_uri": "https://localhost:8080/"
        },
        "outputId": "b13e85a7-909d-4823-8e98-09fcf9aeac9b"
      },
      "source": [
        "vocab.shape"
      ],
      "execution_count": null,
      "outputs": [
        {
          "output_type": "execute_result",
          "data": {
            "text/plain": [
              "(26576,)"
            ]
          },
          "metadata": {
            "tags": []
          },
          "execution_count": 56
        }
      ]
    },
    {
      "cell_type": "code",
      "metadata": {
        "id": "v4Edi1FHIvWg",
        "colab": {
          "base_uri": "https://localhost:8080/"
        },
        "outputId": "116c1cd7-7e39-4b5b-b886-f534d6ec2539"
      },
      "source": [
        "vocab[7000:7020]"
      ],
      "execution_count": null,
      "outputs": [
        {
          "output_type": "execute_result",
          "data": {
            "text/plain": [
              "array(['cosmonauts', 'cosmos', 'cosponsored', 'cost', 'costa', 'costar',\n",
              "       'costing', 'costly', 'costruction', 'costs', 'cosy', 'cote',\n",
              "       'couched', 'couldn', 'council', 'councils', 'counsel',\n",
              "       'counselees', 'counselor', 'count'], dtype='<U80')"
            ]
          },
          "metadata": {
            "tags": []
          },
          "execution_count": 57
        }
      ]
    },
    {
      "cell_type": "markdown",
      "metadata": {
        "id": "i7pV8VcUJjJS"
      },
      "source": [
        "SVD applied on the [documents x words] matrix"
      ]
    },
    {
      "cell_type": "code",
      "metadata": {
        "id": "NoEFZNkyIvWh"
      },
      "source": [
        "U, s, Vh = linalg.svd(vectors, full_matrices=False)"
      ],
      "execution_count": null,
      "outputs": []
    },
    {
      "cell_type": "code",
      "metadata": {
        "colab": {
          "base_uri": "https://localhost:8080/"
        },
        "id": "G8yNuerMIvWi",
        "outputId": "63fc77fa-2dcb-4fbe-ac0f-5769d9066321"
      },
      "source": [
        "print(U.shape, s.shape, Vh.shape)"
      ],
      "execution_count": null,
      "outputs": [
        {
          "output_type": "stream",
          "text": [
            "(2034, 2034) (2034,) (2034, 26576)\n"
          ],
          "name": "stdout"
        }
      ]
    },
    {
      "cell_type": "markdown",
      "metadata": {
        "id": "2oW6x6rKIvWi"
      },
      "source": [
        "`s` are singular values in decreasing order"
      ]
    },
    {
      "cell_type": "code",
      "metadata": {
        "colab": {
          "base_uri": "https://localhost:8080/",
          "height": 265
        },
        "id": "_TVI_p6IIvWj",
        "outputId": "e44f9d54-a0c0-463a-9ad9-7eb9aa461081"
      },
      "source": [
        "plt.plot(s);"
      ],
      "execution_count": null,
      "outputs": [
        {
          "output_type": "display_data",
          "data": {
            "image/png": "[encoded data removed]",
            "text/plain": [
              "<Figure size 432x288 with 1 Axes>"
            ]
          },
          "metadata": {
            "tags": [],
            "needs_background": "light"
          }
        }
      ]
    },
    {
      "cell_type": "markdown",
      "metadata": {
        "id": "8hYX2RrIJ7kc"
      },
      "source": [
        "Exploring Topics"
      ]
    },
    {
      "cell_type": "code",
      "metadata": {
        "id": "KW3UffTtIvWj"
      },
      "source": [
        "num_top_words=8\n",
        "\n",
        "def show_topics(a):\n",
        "    top_words = lambda t: [vocab[i] for i in np.argsort(t)[:-num_top_words-1:-1]]\n",
        "    topic_words = ([top_words(t) for t in a])\n",
        "    return [' '.join(t) for t in topic_words]"
      ],
      "execution_count": null,
      "outputs": []
    },
    {
      "cell_type": "code",
      "metadata": {
        "colab": {
          "base_uri": "https://localhost:8080/"
        },
        "id": "W4m8YbCbIvWj",
        "scrolled": false,
        "outputId": "608e5694-85cc-4f4b-ac02-73d8983821d3"
      },
      "source": [
        "show_topics(Vh[:10])"
      ],
      "execution_count": null,
      "outputs": [
        {
          "output_type": "execute_result",
          "data": {
            "text/plain": [
              "['ditto critus propagandist surname galacticentric kindergarten surreal imaginative',\n",
              " 'jpeg gif file color quality image jfif format',\n",
              " 'graphics edu pub mail 128 3d ray ftp',\n",
              " 'jesus god matthew people atheists atheism does graphics',\n",
              " 'image data processing analysis software available tools display',\n",
              " 'god atheists atheism religious believe religion argument true',\n",
              " 'space nasa lunar mars probe moon missions probes',\n",
              " 'image probe surface lunar mars probes moon orbit',\n",
              " 'argument fallacy conclusion example true ad argumentum premises',\n",
              " 'space larson image theory universe physical nasa material']"
            ]
          },
          "metadata": {
            "tags": []
          },
          "execution_count": 62
        }
      ]
    },
    {
      "cell_type": "markdown",
      "metadata": {
        "id": "KMcMEkMhIvWk"
      },
      "source": [
        "We can see that topics are telling something. For example,   \n",
        "`Topic 7` is related to `space`.  \n",
        "`Topic 3` is related to `computer graphics`.  \n",
        "`topic 2` is related to `image quality` etc.\n"
      ]
    }
  ]
}