{
  "nbformat": 4,
  "nbformat_minor": 0,
  "metadata": {
    "colab": {
      "name": "APS1070 - Week 12 Lecture Code.ipynb",
      "provenance": [],
      "collapsed_sections": []
    },
    "kernelspec": {
      "display_name": "Python 3",
      "name": "python3"
    }
  },
  "cells": [
    {
      "cell_type": "markdown",
      "metadata": {
        "id": "MD1j2BeWPkgt"
      },
      "source": [
        "# APS1070 Week 12 Lecture Code"
      ]
    },
    {
      "cell_type": "markdown",
      "metadata": {
        "id": "28HB00sFOqUS"
      },
      "source": [
        "## Part 1 - Monte Carlo Problem 1\n",
        "\n",
        "Let us take a look at a simple Monte Carlo simulation for estimating the probability of a dart landing in a circle rather than the nonoverlapping portion of a square that is enclosing the circle."
      ]
    },
    {
      "cell_type": "code",
      "metadata": {
        "id": "sfjkV2C7OqUa"
      },
      "source": [
        "# probability of dart landing in a circle\n",
        "import random\n",
        "import numpy as np\n",
        "\n",
        "def throwDarts(num_darts):\n",
        "  in_circle = 0\n",
        "  for darts in range(1,num_darts + 1, 1):\n",
        "    x = random.random()\n",
        "    y = random.random()\n",
        "    if (x*x + y*y)**0.5 <= 1.0:\n",
        "      in_circle +=1\n",
        "  return (in_circle/num_darts)"
      ],
      "execution_count": null,
      "outputs": []
    },
    {
      "cell_type": "code",
      "metadata": {
        "colab": {
          "base_uri": "https://localhost:8080/"
        },
        "outputId": "eb709843-8944-4084-a291-e2670c75e0eb",
        "id": "_-tRBSJjOqUb"
      },
      "source": [
        "estimate = throwDarts(100000)\n",
        "truth = np.pi/4 \n",
        "print('Estimate: ', estimate)\n",
        "print('Truth: ', truth)"
      ],
      "execution_count": null,
      "outputs": [
        {
          "output_type": "stream",
          "text": [
            "Estimate:  3.1444\n",
            "Truth:  3.141592653589793\n"
          ],
          "name": "stdout"
        }
      ]
    },
    {
      "cell_type": "markdown",
      "metadata": {
        "id": "4wCdn30c2CKq"
      },
      "source": [
        "## Part 2 - Monte Carlo Problem 2\n",
        "\n",
        "Let us take a look at another slightly more difficult Monte Carlo simulation. Estimate the number of rounds we would play in a game given that we have a probability p of winning each round, and if we lose two consecutive rounds we lose the game."
      ]
    },
    {
      "cell_type": "code",
      "metadata": {
        "id": "CUm2hV9h2MoV"
      },
      "source": [
        "import numpy as np\n",
        "def mc(n=10**6,p=0.5):\n",
        "    rounds= []\n",
        "    for _ in range(n):\n",
        "        r,losses = 0,0\n",
        "        while losses != 2:\n",
        "            r+=1\n",
        "            if np.random.random() <= p:\n",
        "                losses = 0\n",
        "            else:\n",
        "                losses +=1\n",
        "        rounds.append(r)\n",
        "    return np.mean(rounds)"
      ],
      "execution_count": null,
      "outputs": []
    },
    {
      "cell_type": "code",
      "metadata": {
        "colab": {
          "base_uri": "https://localhost:8080/"
        },
        "id": "NB3qj_qG2i6x",
        "outputId": "c6839392-3028-4755-ecac-30235cf1cefe"
      },
      "source": [
        "# run to find out expected number of rounds played\n",
        "mc(n=10**6,p=0.5)"
      ],
      "execution_count": null,
      "outputs": [
        {
          "output_type": "execute_result",
          "data": {
            "text/plain": [
              "6.006041"
            ]
          },
          "metadata": {
            "tags": []
          },
          "execution_count": 29
        }
      ]
    },
    {
      "cell_type": "markdown",
      "metadata": {
        "id": "kdwKHTfS2ZSj"
      },
      "source": [
        "\n",
        "## Part 3 - Confidence Intervals and Hypothesis Testing\n",
        "\n",
        "(i) Let us revisit our simple Monte Carlo simulation for estimating the probability of a dart landing in a circle and using that to obtain the value of pi."
      ]
    },
    {
      "cell_type": "code",
      "metadata": {
        "id": "ieJdYCPF2ars"
      },
      "source": [
        "# probability of dart landing in a circle\n",
        "import random\n",
        "import numpy as np\n",
        "\n",
        "def throwDarts(num_darts):\n",
        "  in_circle = 0\n",
        "  for darts in range(1,num_darts + 1, 1):\n",
        "    x = random.random()\n",
        "    y = random.random()\n",
        "    if (x*x + y*y)**0.5 <= 1.0:\n",
        "      in_circle +=1\n",
        "  return (4*in_circle/num_darts) #4 x to find pi"
      ],
      "execution_count": null,
      "outputs": []
    },
    {
      "cell_type": "code",
      "metadata": {
        "colab": {
          "base_uri": "https://localhost:8080/"
        },
        "id": "Sz6bO52g4jGp",
        "outputId": "ebb1e05a-292a-4828-eaf2-23d35ec8d560"
      },
      "source": [
        "estimate = throwDarts(100000)\n",
        "truth = np.pi \n",
        "print('Estimate: ', estimate)\n",
        "print('Truth: ', truth)"
      ],
      "execution_count": null,
      "outputs": [
        {
          "output_type": "stream",
          "text": [
            "Estimate:  3.13868\n",
            "Truth:  3.141592653589793\n"
          ],
          "name": "stdout"
        }
      ]
    },
    {
      "cell_type": "markdown",
      "metadata": {
        "id": "-2OBT2374L62"
      },
      "source": [
        "(ii) Generate confidence intervals"
      ]
    },
    {
      "cell_type": "code",
      "metadata": {
        "id": "zDqAfaAl4Nx1"
      },
      "source": [
        "# obtain confidence interval by performing many trials\n",
        "def getEst(num_darts, num_trials):\n",
        "  estimates = []\n",
        "  for t in range(num_trials):\n",
        "    guess = throwDarts(num_darts)\n",
        "    estimates.append(guess)\n",
        "  s_dev = np.std(np.array(estimates),ddof = 1)\n",
        "  s_err = s_dev/(len(estimates)**.5)\n",
        "  s_mean = sum(estimates)/len(estimates)\n",
        "  return (s_mean, s_err)"
      ],
      "execution_count": null,
      "outputs": []
    },
    {
      "cell_type": "code",
      "metadata": {
        "colab": {
          "base_uri": "https://localhost:8080/"
        },
        "id": "SzzLlsGP6LoT",
        "outputId": "58f7ffc4-d9ba-4e07-d2b6-5cee4e9bcef9"
      },
      "source": [
        "(s_mean, s_err) = getEst(100000, 100)\n",
        "print(s_mean, s_err*100**.5)\n",
        "z = 1.96 #95% confidence interval\n",
        "upper_lim = s_mean+z*s_err\n",
        "lower_lim = s_mean-z*s_err\n",
        "print('Sample Mean: ', round(s_mean,6))\n",
        "print('CI: ', round(lower_lim,6), ' to ', round(upper_lim,6))\n",
        "print('True Mean: ', truth, ' Hypothesis: ', lower_lim < truth < upper_lim)"
      ],
      "execution_count": null,
      "outputs": [
        {
          "output_type": "stream",
          "text": [
            "3.1409936000000003 0.00564908851501772\n",
            "Sample Mean:  3.140994\n",
            "CI:  3.139886  to  3.142101\n",
            "True Mean:  3.141592653589793  Hypothesis:  True\n"
          ],
          "name": "stdout"
        }
      ]
    },
    {
      "cell_type": "markdown",
      "metadata": {
        "id": "xHkhZb0tjtDT"
      },
      "source": [
        "(iii) Test hypothesis over 100 sample means and confidence intervals."
      ]
    },
    {
      "cell_type": "code",
      "metadata": {
        "colab": {
          "base_uri": "https://localhost:8080/"
        },
        "id": "HXT3ZVadQNyD",
        "outputId": "5698e30f-0869-4bdd-945a-dcd22f683991"
      },
      "source": [
        "z = 1.96 #95% confidence\n",
        "h_count = 0\n",
        "\n",
        "#repeat 100 times\n",
        "for t in range(100):\n",
        "  (s_mean, s_err) = getEst(100000, 100)\n",
        "  upper_lim = s_mean+z*s_err\n",
        "  lower_lim = s_mean-z*s_err\n",
        "  h_count += int(lower_lim < truth < upper_lim)\n",
        "  print(100*h_count/(t+1), end='\\r')\n",
        "\n",
        "print('Null Hypothesis True Count: ', h_count)\n"
      ],
      "execution_count": null,
      "outputs": [
        {
          "output_type": "stream",
          "text": [
            "Null Hypothesis True Count:  92\n"
          ],
          "name": "stdout"
        }
      ]
    }
  ]
}