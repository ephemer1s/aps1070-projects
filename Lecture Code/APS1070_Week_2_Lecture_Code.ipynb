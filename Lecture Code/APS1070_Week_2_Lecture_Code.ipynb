{
 "cells": [
  {
   "cell_type": "markdown",
   "metadata": {
    "id": "7xsy0XNjPwGH"
   },
   "source": [
    "# APS1070 Week 2 Lecture Code"
   ]
  },
  {
   "cell_type": "markdown",
   "metadata": {
    "id": "cPLWwcrP7hxy"
   },
   "source": [
    "Slow and Fast Algorithms for the Fibonacci Sequence"
   ]
  },
  {
   "cell_type": "code",
   "execution_count": 1,
   "metadata": {
    "id": "Bta8d2wb7iVv"
   },
   "outputs": [],
   "source": [
    "# SLOWFIB \n",
    "\n",
    "def slowfib(n):\n",
    "  if n<0:\n",
    "    return(0)\n",
    "  elif n==0:\n",
    "    return(0)\n",
    "  elif n==1:\n",
    "    return(1)\n",
    "  else:\n",
    "    return(slowfib(n-1)+slowfib(n-2))"
   ]
  },
  {
   "cell_type": "code",
   "execution_count": 2,
   "metadata": {
    "id": "ZvHaGzEI_fdl"
   },
   "outputs": [],
   "source": [
    "# FASTFIB\n",
    "\n",
    "def fastfib(n):\n",
    "  if n<0:\n",
    "    return(0)\n",
    "  elif n==0:\n",
    "    return(0)\n",
    "  elif n==1:\n",
    "    return(1)\n",
    "  else:\n",
    "    a=1\n",
    "    b=0\n",
    "    i=2\n",
    "    for i in range(2,n+1):\n",
    "      t=a\n",
    "      a=a+b\n",
    "      b=t\n",
    "    return(a)"
   ]
  },
  {
   "cell_type": "code",
   "execution_count": 3,
   "metadata": {
    "colab": {
     "base_uri": "https://localhost:8080/"
    },
    "id": "UOeQ8glQA1Vg",
    "outputId": "3f662a13-d809-4b3a-b3a9-472f49965226"
   },
   "outputs": [
    {
     "name": "stdout",
     "output_type": "stream",
     "text": [
      "0:00:00.000036\n"
     ]
    }
   ],
   "source": [
    "from timeit import default_timer as timer\n",
    "from datetime import timedelta\n",
    "\n",
    "start = timer()\n",
    "# function call\n",
    "end = timer()\n",
    "\n",
    "print(timedelta(seconds=end-start))"
   ]
  },
  {
   "cell_type": "code",
   "execution_count": 6,
   "metadata": {
    "colab": {
     "base_uri": "https://localhost:8080/"
    },
    "id": "r8RhORWX8BKh",
    "outputId": "8f7f6a5e-caec-4895-d707-5783d3c546c5"
   },
   "outputs": [
    {
     "name": "stdout",
     "output_type": "stream",
     "text": [
      "0:00:00.005805\n"
     ]
    }
   ],
   "source": [
    "start = timer()\n",
    "slowfib(20)\n",
    "end = timer()\n",
    "\n",
    "print(timedelta(seconds=end-start))"
   ]
  },
  {
   "cell_type": "code",
   "execution_count": 7,
   "metadata": {
    "colab": {
     "base_uri": "https://localhost:8080/"
    },
    "id": "9BR4z6MAASDM",
    "outputId": "5bd7e35c-f67a-41ae-a75d-6830ba42169c"
   },
   "outputs": [
    {
     "name": "stdout",
     "output_type": "stream",
     "text": [
      "0:00:00.000081\n"
     ]
    }
   ],
   "source": [
    "start = timer()\n",
    "fastfib(20)\n",
    "end = timer()\n",
    "\n",
    "print(timedelta(seconds=end-start))"
   ]
  },
  {
   "cell_type": "code",
   "execution_count": null,
   "metadata": {
    "id": "8cTRi8-D8Cql"
   },
   "outputs": [],
   "source": []
  }
 ],
 "metadata": {
  "colab": {
   "collapsed_sections": [],
   "name": "APS1070_Week_2_Lecture_Code.ipynb",
   "provenance": []
  },
  "kernelspec": {
   "display_name": "Python 3",
   "language": "python",
   "name": "python3"
  },
  "language_info": {
   "codemirror_mode": {
    "name": "ipython",
    "version": 3
   },
   "file_extension": ".py",
   "mimetype": "text/x-python",
   "name": "python",
   "nbconvert_exporter": "python",
   "pygments_lexer": "ipython3",
   "version": "3.7.4"
  }
 },
 "nbformat": 4,
 "nbformat_minor": 1
}
