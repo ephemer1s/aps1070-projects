{
  "nbformat": 4,
  "nbformat_minor": 0,
  "metadata": {
    "colab": {
      "name": "W22_APS1070_Tutorial_4.ipynb",
      "provenance": [],
      "collapsed_sections": []
    },
    "kernelspec": {
      "display_name": "Python 3",
      "language": "python",
      "name": "python3"
    },
    "language_info": {
      "codemirror_mode": {
        "name": "ipython",
        "version": 3
      },
      "file_extension": ".py",
      "mimetype": "text/x-python",
      "name": "python",
      "nbconvert_exporter": "python",
      "pygments_lexer": "ipython3",
      "version": "3.7.4"
    }
  },
  "cells": [
    {
      "cell_type": "markdown",
      "metadata": {
        "id": "OTpnyUEJrAjE"
      },
      "source": [
        "# APS1070, Tutorial 4 "
      ]
    },
    {
      "cell_type": "markdown",
      "metadata": {
        "id": "Jn-UWaxnwA4K"
      },
      "source": [
        "## Linear Regression"
      ]
    },
    {
      "cell_type": "markdown",
      "metadata": {
        "id": "kS-L6yG_wA4L"
      },
      "source": [
        "### Introduction"
      ]
    },
    {
      "cell_type": "markdown",
      "metadata": {
        "id": "2mFMzlbcbcs0"
      },
      "source": [
        "In statistics, linear regression is a linear approach to modelling the relationship between a dependent variable and one or more independent variables. Let $x$ be the independent variable and $y$ be the dependent variable. We will define a linear relationship between these two variables as follows:"
      ]
    },
    {
      "cell_type": "markdown",
      "metadata": {
        "id": "R3JNdY_Cbcs0"
      },
      "source": [
        "$y = wX + b$"
      ]
    },
    {
      "cell_type": "markdown",
      "metadata": {
        "id": "6YAZTV1Mbcs1"
      },
      "source": [
        "This is the equation for a line that you studied in high school. $w$ is the slope of the line and b is the $y$ intercept. Today we will use this equation to train our model with a given dataset and predict the value of $y$ for any given value of $x$. Our challenge today is to determine the value of $w$ and $b$, such that the line corresponding to those values is the best fitting line or gives the minimum error."
      ]
    },
    {
      "cell_type": "markdown",
      "metadata": {
        "id": "9ENvOgIIbcs1"
      },
      "source": [
        "Are we always fitting a line into the data? What if we have more than 1 feature (independant variable)?"
      ]
    },
    {
      "cell_type": "markdown",
      "metadata": {
        "id": "_lhIIg3Pbcs2"
      },
      "source": [
        "The vectorized form of above equation is written as $y = Xw$, where $y$ and $w$ are vectors while $X$ is a matrix. \n",
        "\n",
        "Where is the b term? It is included within the $X$ matrix.\n"
      ]
    },
    {
      "cell_type": "markdown",
      "metadata": {
        "id": "qyYxxkfAbcs2"
      },
      "source": [
        "**Hypothesis of Linear Regression**"
      ]
    },
    {
      "cell_type": "markdown",
      "metadata": {
        "id": "KUz5wFvUbcs3"
      },
      "source": [
        "The linear regression model can be represented by the following equation:"
      ]
    },
    {
      "cell_type": "markdown",
      "metadata": {
        "id": "VyqwDStzWaAB"
      },
      "source": [
        "\n",
        "\n",
        "$y= b + w_1x_1 + w_2x_2 + ......+w_nx_n$\n",
        "\n"
      ]
    },
    {
      "cell_type": "markdown",
      "metadata": {
        "id": "qPdf8fFhaU50"
      },
      "source": [
        "The bias term can further be incorporated into the quation as an additional weight with cofficient 1"
      ]
    },
    {
      "cell_type": "markdown",
      "metadata": {
        "id": "ADMnqhJDaeiF"
      },
      "source": [
        "$y= w_0(1) + w_1x_1 + w_2x_2 + ......+w_nx_n$, where $w_0 = b$"
      ]
    },
    {
      "cell_type": "markdown",
      "metadata": {
        "id": "q_aOnL22bcs4"
      },
      "source": [
        "- $y$ is the predicted value ($h_w(x)$)\n",
        "- $w_0$ is the bias term.\n",
        "- $w_i$, where i>0 are the model parameters\n",
        "- $x_i$, where i>0 are the feature values."
      ]
    },
    {
      "cell_type": "markdown",
      "metadata": {
        "id": "bD4i39QVwA4O"
      },
      "source": [
        "### Loss and Cost functions"
      ]
    },
    {
      "cell_type": "markdown",
      "metadata": {
        "id": "y6AiJnqnbcs5"
      },
      "source": [
        "Our Loss function for Linear regression would be sum of squares, which makes the cost function to be:"
      ]
    },
    {
      "cell_type": "markdown",
      "metadata": {
        "id": "RUIa2Og3bcs5"
      },
      "source": [
        "\n",
        "$L(y,t)=\\frac{1}{2}\\ (y-t)^2$"
      ]
    },
    {
      "cell_type": "markdown",
      "metadata": {
        "id": "53bIKpy5bcs6"
      },
      "source": [
        "Here $t$ is the actual value and $y$ is the predicted value. \n",
        "For the simplest case lets assume a straight line with folowing equation Lets substitute the value of $y$ from $y = wx + b$ and compute the average for $N$ examples ):"
      ]
    },
    {
      "cell_type": "markdown",
      "metadata": {
        "id": "FZERyj_zcpku"
      },
      "source": [
        " Cost Function: $J=\\frac{1}{2N}[\\sum_{i=1}^N((wx^{(i)}+b)-t^{(i)})^2]$"
      ]
    },
    {
      "cell_type": "markdown",
      "metadata": {
        "id": "w5GC9wklbcs7"
      },
      "source": [
        "Partial Derivative of the above equation with respect to $w$ is shown here:\n"
      ]
    },
    {
      "cell_type": "markdown",
      "metadata": {
        "id": "wKB_CwH_dwfU"
      },
      "source": [
        "$\\frac{{\\partial J}}{\\partial w}=\\frac{1}{2N}[\\sum_{i=0}^N2~x^{(i)}~((wx^{(i)}+b)-t^{(i)})]$\n",
        "\n",
        "$\\frac{{\\partial J}}{\\partial w}=\\frac{1}{N}[\\sum_{i=0}^Nx^{(i)}(y^{(i)}-t^{(i)})]$"
      ]
    },
    {
      "cell_type": "markdown",
      "metadata": {
        "id": "T4bzLgyXbcs7"
      },
      "source": [
        "While the Partial Derivative with respect to $b$ is shown here:"
      ]
    },
    {
      "cell_type": "markdown",
      "metadata": {
        "id": "0wLmX5mAgslo"
      },
      "source": [
        "$\\frac{\\partial J}{\\partial b}=\\frac{1}{N}[\\sum_{i=0}^N(y^{(i)}-t^{(i)})]$"
      ]
    },
    {
      "cell_type": "markdown",
      "metadata": {
        "id": "FNAgpf18wA4S"
      },
      "source": [
        "#### Direct Solution\n",
        "\n",
        "Can you derive the Analytical Solution for Linear Regression?"
      ]
    },
    {
      "cell_type": "markdown",
      "metadata": {
        "id": "9-vd5YWLbcs-"
      },
      "source": [
        "We arrive at the analytical solution when we turn the partial derivatives with respect to the parameters to zero. $\\frac{{\\partial J}}{\\partial w}=0$ and  $\\frac{{\\partial J}}{\\partial b}=0$.\n",
        "\n",
        "This is because at the point where cost function is at the minimum with respect to the parameters ($w$ and $b$), the derivative of cost function with respect to the parameters would be zero."
      ]
    },
    {
      "cell_type": "markdown",
      "metadata": {
        "id": "o_qnAm8tbcs_"
      },
      "source": [
        "The solution for the general case comes out to be:"
      ]
    },
    {
      "cell_type": "markdown",
      "metadata": {
        "id": "91CsuqsUbcs_"
      },
      "source": [
        "$w = (X^TX)^{-1}X^Tt$"
      ]
    },
    {
      "cell_type": "markdown",
      "metadata": {
        "id": "nuHJAOmvbctA"
      },
      "source": [
        "With $L_2$ Regularization. Cost:"
      ]
    },
    {
      "cell_type": "markdown",
      "metadata": {
        "id": "eCDCGqdbbctB"
      },
      "source": [
        "$J(w) = \\frac{1}{2N}[\\sum_{i=1}^N(h_w (x^{(i)}) - t^{(i)})^2 + \\lambda\\sum_{j=1}^nw^2_j]$ "
      ]
    },
    {
      "cell_type": "markdown",
      "metadata": {
        "id": "w484FOiDbctC"
      },
      "source": [
        "$w = (X^TX + \\lambda I)^{-1}X^Tt$"
      ]
    },
    {
      "cell_type": "markdown",
      "metadata": {
        "id": "VPNKfSh1bctG"
      },
      "source": [
        "### Practice Direct solution\n"
      ]
    },
    {
      "cell_type": "code",
      "metadata": {
        "id": "_pUP_nOYbctG"
      },
      "source": [
        "import numpy as np\n",
        "import pandas as pd\n",
        "import matplotlib.pyplot as plt\n",
        "import seaborn as sns\n",
        "from sklearn.linear_model import LinearRegression\n",
        "from sklearn.linear_model import Ridge\n",
        "from sklearn.preprocessing import PolynomialFeatures\n",
        "from sklearn.metrics import mean_squared_error"
      ],
      "execution_count": 1,
      "outputs": []
    },
    {
      "cell_type": "markdown",
      "metadata": {
        "id": "6aqKk5Q0rcMp"
      },
      "source": [
        "We will start with fitting distribution of data points with a line followed by higher order polynomials to visualize the idea behind it."
      ]
    },
    {
      "cell_type": "code",
      "metadata": {
        "id": "g2s-ZTXtbctI"
      },
      "source": [
        "n = 50 # number of points\n",
        "w = 2 # slope of line\n",
        "b = 4 # y intercept of line\n",
        "r = 2 # range of data on x-axis\n",
        "\n",
        "np.random.seed(2)\n",
        "x =  r*np.random.rand(n)\n",
        "x.sort()\n",
        "yPerf = w*x + b # perfect world: no noise\n",
        "y = w*x + b + 0.2 * np.random.randn(n) # imperfect world: we get noisy data"
      ],
      "execution_count": 2,
      "outputs": []
    },
    {
      "cell_type": "markdown",
      "metadata": {
        "id": "RlW5IUn5bctJ"
      },
      "source": [
        "Spoiler Alert: We are in an Imperfect World."
      ]
    },
    {
      "cell_type": "code",
      "metadata": {
        "id": "lNe4w9CdbctJ"
      },
      "source": [
        "def rmse(yPred, y):\n",
        "    return np.sqrt(mean_squared_error(yPred, y))"
      ],
      "execution_count": 3,
      "outputs": []
    },
    {
      "cell_type": "code",
      "metadata": {
        "id": "YmkB-_lpbctL",
        "colab": {
          "base_uri": "https://localhost:8080/",
          "height": 265
        },
        "outputId": "87686005-afb0-4ab2-d4ed-6d9714302994"
      },
      "source": [
        "plt.plot(x, y, 'o', label='Data')\n",
        "plt.plot(x, yPerf, 'o-', label='Underlying Distribution')\n",
        "\n",
        "plt.legend()\n",
        "plt.show()"
      ],
      "execution_count": 4,
      "outputs": [
        {
          "output_type": "display_data",
          "data": {
            "text/plain": [
              "<Figure size 432x288 with 1 Axes>"
            ],
            "image/png": "[encoded data removed]"
          },
          "metadata": {
            "needs_background": "light"
          }
        }
      ]
    },
    {
      "cell_type": "code",
      "metadata": {
        "id": "ThxAbi0x1m4m",
        "colab": {
          "base_uri": "https://localhost:8080/"
        },
        "outputId": "24a2f362-34c7-43b5-eec6-60a2974be34d"
      },
      "source": [
        "x.shape"
      ],
      "execution_count": 5,
      "outputs": [
        {
          "output_type": "execute_result",
          "data": {
            "text/plain": [
              "(50,)"
            ]
          },
          "metadata": {},
          "execution_count": 5
        }
      ]
    },
    {
      "cell_type": "code",
      "metadata": {
        "id": "xL7-QF9TbctN"
      },
      "source": [
        "x = np.vstack((np.ones(np.shape(x)), x)).T\n",
        "y = y.reshape(-1, 1)"
      ],
      "execution_count": 6,
      "outputs": []
    },
    {
      "cell_type": "code",
      "metadata": {
        "colab": {
          "base_uri": "https://localhost:8080/"
        },
        "id": "-T6q9TvEb2ZE",
        "outputId": "42083aac-c16a-4268-e145-c4f044944d19"
      },
      "source": [
        "x"
      ],
      "execution_count": 7,
      "outputs": [
        {
          "output_type": "execute_result",
          "data": {
            "text/plain": [
              "array([[1.        , 0.05185246],\n",
              "       [1.        , 0.13057301],\n",
              "       [1.        , 0.15929095],\n",
              "       [1.        , 0.19306183],\n",
              "       [1.        , 0.21389137],\n",
              "       [1.        , 0.25431994],\n",
              "       [1.        , 0.26915989],\n",
              "       [1.        , 0.3245972 ],\n",
              "       [1.        , 0.36887973],\n",
              "       [1.        , 0.40348645],\n",
              "       [1.        , 0.40929727],\n",
              "       [1.        , 0.44061241],\n",
              "       [1.        , 0.452024  ],\n",
              "       [1.        , 0.53365455],\n",
              "       [1.        , 0.59930935],\n",
              "       [1.        , 0.66066964],\n",
              "       [1.        , 0.68322731],\n",
              "       [1.        , 0.69965257],\n",
              "       [1.        , 0.7737853 ],\n",
              "       [1.        , 0.8407356 ],\n",
              "       [1.        , 0.85509193],\n",
              "       [1.        , 0.85624466],\n",
              "       [1.        , 0.87064479],\n",
              "       [1.        , 0.8719898 ],\n",
              "       [1.        , 0.87349453],\n",
              "       [1.        , 0.93557497],\n",
              "       [1.        , 0.96613967],\n",
              "       [1.        , 0.98847367],\n",
              "       [1.        , 1.00001672],\n",
              "       [1.        , 1.01047344],\n",
              "       [1.        , 1.01049218],\n",
              "       [1.        , 1.02715624],\n",
              "       [1.        , 1.05828419],\n",
              "       [1.        , 1.07120835],\n",
              "       [1.        , 1.09932496],\n",
              "       [1.        , 1.13428826],\n",
              "       [1.        , 1.16000836],\n",
              "       [1.        , 1.19349062],\n",
              "       [1.        , 1.23854193],\n",
              "       [1.        , 1.24226767],\n",
              "       [1.        , 1.28081345],\n",
              "       [1.        , 1.40150469],\n",
              "       [1.        , 1.55311837],\n",
              "       [1.        , 1.5706703 ],\n",
              "       [1.        , 1.58727491],\n",
              "       [1.        , 1.69312297],\n",
              "       [1.        , 1.70795059],\n",
              "       [1.        , 1.77904013],\n",
              "       [1.        , 1.90748445],\n",
              "       [1.        , 1.92910216]])"
            ]
          },
          "metadata": {},
          "execution_count": 7
        }
      ]
    },
    {
      "cell_type": "code",
      "metadata": {
        "id": "70gnrF0XbctO"
      },
      "source": [
        "# analytical solution\n",
        "W = np.dot(np.linalg.inv(np.dot(x.T, x)), np.dot(x.T, y))\n",
        "\n",
        "# prediction\n",
        "yPred = np.dot(x, W)"
      ],
      "execution_count": 8,
      "outputs": []
    },
    {
      "cell_type": "code",
      "metadata": {
        "id": "zJqxsROhPEGw",
        "colab": {
          "base_uri": "https://localhost:8080/"
        },
        "outputId": "d58ff699-5a7c-4c31-bbec-0854c6b77407"
      },
      "source": [
        "W[0],W[1]"
      ],
      "execution_count": 9,
      "outputs": [
        {
          "output_type": "execute_result",
          "data": {
            "text/plain": [
              "(array([3.9431107]), array([2.04969214]))"
            ]
          },
          "metadata": {},
          "execution_count": 9
        }
      ]
    },
    {
      "cell_type": "markdown",
      "metadata": {
        "id": "vlvll92zbctS"
      },
      "source": [
        "- How similar are these to the values we had set initially?\n",
        "- Will they be same as those set initially if there was no noise?"
      ]
    },
    {
      "cell_type": "code",
      "metadata": {
        "id": "NyxfDFgfbctS",
        "colab": {
          "base_uri": "https://localhost:8080/",
          "height": 265
        },
        "outputId": "bd10b3b3-be7c-44cb-8bc3-57bad9bfc446"
      },
      "source": [
        "plt.plot(x[:, 1], y, 'o', label='Data')\n",
        "plt.plot(x[:, 1], yPerf, 'o-', label='Underlying Distribution')\n",
        "plt.plot(x[:, 1], yPred, 'o-', label='Predicted')\n",
        "\n",
        "plt.legend()\n",
        "plt.show()"
      ],
      "execution_count": 10,
      "outputs": [
        {
          "output_type": "display_data",
          "data": {
            "text/plain": [
              "<Figure size 432x288 with 1 Axes>"
            ],
            "image/png": "[encoded data removed]"
          },
          "metadata": {
            "needs_background": "light"
          }
        }
      ]
    },
    {
      "cell_type": "code",
      "metadata": {
        "id": "2l5yQVtFbctU",
        "colab": {
          "base_uri": "https://localhost:8080/"
        },
        "outputId": "4f36e774-3dd7-41e3-8d70-e69d9098def0"
      },
      "source": [
        "print('RMSE Perf: ', rmse(yPerf, y))\n",
        "print('RMSE Pred: ', rmse(yPred, y))"
      ],
      "execution_count": 11,
      "outputs": [
        {
          "output_type": "stream",
          "name": "stdout",
          "text": [
            "RMSE Perf:  0.19456779608856656\n",
            "RMSE Pred:  0.19267293653588508\n"
          ]
        }
      ]
    },
    {
      "cell_type": "markdown",
      "metadata": {
        "id": "o3ZG5e0YbctW"
      },
      "source": [
        "### Feature Mapping\n"
      ]
    },
    {
      "cell_type": "code",
      "metadata": {
        "id": "T9eFKueSbctX"
      },
      "source": [
        "n = 200 # number of points\n",
        "r = 100  # range of data on x-axis\n",
        "\n",
        "np.random.seed(10)\n",
        "X  = r * np.random.random(n) -50\n",
        "X.sort()\n",
        "np.random.seed(10)\n",
        "y =  np.random.normal(-1, 1, n)  # imperfect world: we get noisy data\n",
        "l1 =np.array(X<-10)\n",
        "y[l1]+= 5 + 0.5*np.random.random()\n",
        "l2 = np.array(X>10)\n",
        "y[l2]+= -5 - 0.5*np.random.random()"
      ],
      "execution_count": 12,
      "outputs": []
    },
    {
      "cell_type": "code",
      "metadata": {
        "id": "AqpegqID3w1l"
      },
      "source": [
        "X = X.reshape(-1, 1)\n",
        "y = y.reshape(-1, 1)"
      ],
      "execution_count": 13,
      "outputs": []
    },
    {
      "cell_type": "code",
      "metadata": {
        "id": "FGj8wE1XfXio"
      },
      "source": [
        "from sklearn.model_selection import train_test_split\n",
        "X_train, X_valid, y_train, y_valid = train_test_split(X, y, test_size=0.3)"
      ],
      "execution_count": 14,
      "outputs": []
    },
    {
      "cell_type": "code",
      "metadata": {
        "id": "kAwZSKq7nU9r",
        "colab": {
          "base_uri": "https://localhost:8080/"
        },
        "outputId": "b8eef584-4af6-484e-eaa6-0a4e2e1059d8"
      },
      "source": [
        "one_train = np.ones(np.shape(X_train))\n",
        "one_valid = np.ones(np.shape(X_valid))\n",
        "X_train_1f = np.hstack((one_train, X_train))\n",
        "X_valid_1f = np.hstack((one_valid, X_valid))\n",
        "\n",
        "X_train_1f[0:10]"
      ],
      "execution_count": 15,
      "outputs": [
        {
          "output_type": "execute_result",
          "data": {
            "text/plain": [
              "array([[  1.        ,  34.43857945],\n",
              "       [  1.        ,   7.81364299],\n",
              "       [  1.        , -35.14665486],\n",
              "       [  1.        ,   1.23341533],\n",
              "       [  1.        , -14.93436087],\n",
              "       [  1.        ,  30.00687507],\n",
              "       [  1.        ,   4.75861559],\n",
              "       [  1.        , -13.46350288],\n",
              "       [  1.        ,  40.28317603],\n",
              "       [  1.        ,  30.52231968]])"
            ]
          },
          "metadata": {},
          "execution_count": 15
        }
      ]
    },
    {
      "cell_type": "code",
      "metadata": {
        "id": "muxTOv8uhd5Y"
      },
      "source": [
        "def Direct_sol (X_train,y_train , X_valid, y_valid):\n",
        "  W = np.dot(np.linalg.inv(np.dot(X_train.T, X_train)), np.dot(X_train.T, y_train)) # Train the model using training set: finding weights\n",
        "  y_pred_train = np.dot(X_train, W) # prediction on the training set\n",
        "  y_pred_valid = np.dot(X_valid, W) # prediction on the validation set\n",
        "  RMSE_train = rmse(y_pred_train, y_train)\n",
        "  RMSE_valid = rmse(y_pred_valid, y_valid)\n",
        "  plt.scatter(X_train[:,1], y_train, label='Data')\n",
        "  plt.scatter(X_train[:,1], y_pred_train, label='Prediction')\n",
        "  print (\"RMSE on training set: \" , RMSE_train)\n",
        "  print (\"RMSE on validation set: \" , RMSE_valid)\n",
        "  plt.legend()\n",
        "  plt.show()\n",
        "  return W , y_pred_train , y_pred_valid , RMSE_train , RMSE_valid\n",
        "\n"
      ],
      "execution_count": 16,
      "outputs": []
    },
    {
      "cell_type": "code",
      "metadata": {
        "id": "GZy6EK4Mbctb",
        "colab": {
          "base_uri": "https://localhost:8080/",
          "height": 299
        },
        "outputId": "6a70c693-45d3-476f-dfce-eb5277dd696a"
      },
      "source": [
        "Result = Direct_sol( X_train_1f, y_train , X_valid_1f, y_valid)"
      ],
      "execution_count": 17,
      "outputs": [
        {
          "output_type": "stream",
          "name": "stdout",
          "text": [
            "RMSE on training set:  2.1052991906325684\n",
            "RMSE on validation set:  1.747143224448845\n"
          ]
        },
        {
          "output_type": "display_data",
          "data": {
            "text/plain": [
              "<Figure size 432x288 with 1 Axes>"
            ],
            "image/png": "[encoded data removed]"
          },
          "metadata": {
            "needs_background": "light"
          }
        }
      ]
    },
    {
      "cell_type": "markdown",
      "metadata": {
        "id": "S6zNdggSbctf"
      },
      "source": [
        " What to do next?\n",
        "\n",
        "Can we add more features."
      ]
    },
    {
      "cell_type": "code",
      "metadata": {
        "colab": {
          "base_uri": "https://localhost:8080/",
          "height": 299
        },
        "id": "U0kWzz9yvrkE",
        "outputId": "85c213c1-8a3c-441b-f365-8c60f6b0e856"
      },
      "source": [
        "X_train_2f = np.hstack(( one_train , X_train, X_train**2))\n",
        "X_valid_2f = np.hstack(( one_valid, X_valid, X_valid**2))\n",
        "Result = Direct_sol( X_train_2f, y_train , X_valid_2f, y_valid)"
      ],
      "execution_count": 18,
      "outputs": [
        {
          "output_type": "stream",
          "name": "stdout",
          "text": [
            "RMSE on training set:  2.0940310534116655\n",
            "RMSE on validation set:  1.7097172237558378\n"
          ]
        },
        {
          "output_type": "display_data",
          "data": {
            "text/plain": [
              "<Figure size 432x288 with 1 Axes>"
            ],
            "image/png": "[encoded data removed]"
          },
          "metadata": {
            "needs_background": "light"
          }
        }
      ]
    },
    {
      "cell_type": "code",
      "metadata": {
        "id": "XlhuePv2bcth",
        "colab": {
          "base_uri": "https://localhost:8080/",
          "height": 299
        },
        "outputId": "19cca094-2939-4552-e94e-0aa549baf7ec"
      },
      "source": [
        "X_train_3f = np.hstack(( one_train , X_train, X_train**2, X_train**3))\n",
        "X_valid_3f = np.hstack(( one_valid, X_valid, X_valid**2, X_valid**3))\n",
        "Result = Direct_sol( X_train_3f, y_train , X_valid_3f, y_valid)"
      ],
      "execution_count": 19,
      "outputs": [
        {
          "output_type": "stream",
          "name": "stdout",
          "text": [
            "RMSE on training set:  1.5642177441663359\n",
            "RMSE on validation set:  1.5420199974499138\n"
          ]
        },
        {
          "output_type": "display_data",
          "data": {
            "text/plain": [
              "<Figure size 432x288 with 1 Axes>"
            ],
            "image/png": "[encoded data removed]"
          },
          "metadata": {
            "needs_background": "light"
          }
        }
      ]
    },
    {
      "cell_type": "markdown",
      "metadata": {
        "id": "6UVOla-Obctm"
      },
      "source": [
        "But how do we know when to stop, since we would not be knowing when to stop adding features in x."
      ]
    },
    {
      "cell_type": "code",
      "metadata": {
        "id": "a1dphgtbbctm"
      },
      "source": [
        "X_train_12f = np.hstack(( one_train , X_train, X_train**2, X_train**3 , X_train**4 , X_train**5 , X_train**6 , X_train**7 , X_train**8 , X_train**9 , X_train**10 , X_train**11))\n",
        "X_valid_12f = np.hstack(( one_valid, X_valid, X_valid**2, X_valid**3,   X_valid**4,  X_valid**5,  X_valid**6,  X_valid**7,  X_valid**8,  X_valid**9,  X_valid**10,  X_valid**11))"
      ],
      "execution_count": 20,
      "outputs": []
    },
    {
      "cell_type": "code",
      "metadata": {
        "id": "_9_6iGtVbcto",
        "colab": {
          "base_uri": "https://localhost:8080/",
          "height": 299
        },
        "outputId": "d26380fa-7372-4a10-fce8-875dedd26785"
      },
      "source": [
        "Result = Direct_sol( X_train_12f, y_train , X_valid_12f, y_valid)"
      ],
      "execution_count": 21,
      "outputs": [
        {
          "output_type": "stream",
          "name": "stdout",
          "text": [
            "RMSE on training set:  1.3794025593100767\n",
            "RMSE on validation set:  1.376413895933909\n"
          ]
        },
        {
          "output_type": "display_data",
          "data": {
            "text/plain": [
              "<Figure size 432x288 with 1 Axes>"
            ],
            "image/png": "[encoded data removed]"
          },
          "metadata": {
            "needs_background": "light"
          }
        }
      ]
    },
    {
      "cell_type": "markdown",
      "metadata": {
        "id": "bjUKcac3bctt"
      },
      "source": [
        "Is the model overfitted?"
      ]
    },
    {
      "cell_type": "markdown",
      "metadata": {
        "id": "mbgmXOxdbctu"
      },
      "source": [
        "When does the model overfits: when we have more features or comparitively less data for the model.\n",
        "\n",
        "What exactly is overfitting:\n",
        "It pays more attention to the noise of the data provided, in a sense trying to rotely memorize everything, \n",
        "without generalizing. \n",
        "\n",
        "Since we don't know when to stop adding features, what can be done:\n",
        "- Solution is to work with a model or feature set that can slightly overfit your data, and then use techniques to prevent overfitting from happening.\n",
        "The alternative gives us underfitting which we cannot fix unless you modify the feature set or model.\n",
        "\n",
        "#### Regularization: add penalty on weights"
      ]
    },
    {
      "cell_type": "code",
      "metadata": {
        "id": "EWvLnUOTbctw"
      },
      "source": [
        "def Direct_sol_reg (X_train,y_train , X_valid, y_valid , lm):\n",
        "  W = np.dot(np.linalg.inv(np.dot(X_train.T, X_train) + (lm)*np.identity(np.shape(X_train)[1])), np.dot(X_train.T, y_train))\n",
        "  y_pred_train = np.dot(X_train, W)\n",
        "  y_pred_valid = np.dot(X_valid, W)\n",
        "  RMSE_train = rmse(y_pred_train, y_train)\n",
        "  RMSE_valid = rmse(y_pred_valid, y_valid)\n",
        "  plt.scatter(X_train[:,1], y_train, label='Data')\n",
        "  plt.scatter(X_train[:,1], y_pred_train, label='Prediction')\n",
        "  print (\"RMSE on training set: \" , RMSE_train)\n",
        "  print (\"RMSE on validation set: \" , RMSE_valid)\n",
        "  plt.legend()\n",
        "  plt.show()\n",
        "  return W , y_pred_train , y_pred_valid , RMSE_train , RMSE_valid"
      ],
      "execution_count": 22,
      "outputs": []
    },
    {
      "cell_type": "code",
      "metadata": {
        "id": "CQiyDIi_bctx",
        "colab": {
          "base_uri": "https://localhost:8080/",
          "height": 299
        },
        "outputId": "beeb7fbb-a122-46ec-8424-2c15799993ee"
      },
      "source": [
        "Result = Direct_sol_reg( X_train_12f, y_train , X_valid_12f, y_valid ,5)\n"
      ],
      "execution_count": 23,
      "outputs": [
        {
          "output_type": "stream",
          "name": "stdout",
          "text": [
            "RMSE on training set:  1.3814800431594303\n",
            "RMSE on validation set:  1.373688949285445\n"
          ]
        },
        {
          "output_type": "display_data",
          "data": {
            "text/plain": [
              "<Figure size 432x288 with 1 Axes>"
            ],
            "image/png": "[encoded data removed]"
          },
          "metadata": {
            "needs_background": "light"
          }
        }
      ]
    },
    {
      "cell_type": "markdown",
      "metadata": {
        "id": "OeZ5D_oXtqx7"
      },
      "source": [
        "A systematic way for feature mapping:"
      ]
    },
    {
      "cell_type": "code",
      "metadata": {
        "colab": {
          "base_uri": "https://localhost:8080/",
          "height": 299
        },
        "id": "_M-M4sIftCZj",
        "outputId": "97d4b2ef-8527-476a-f768-63aeb3ad4c5f"
      },
      "source": [
        "from sklearn.preprocessing import PolynomialFeatures\n",
        "poly = PolynomialFeatures(20).fit(X_train)\n",
        "X_train_pf = poly.transform(X_train)\n",
        "X_val_pf = poly.transform(X_valid)\n",
        "Result = Direct_sol_reg( X_train_pf, y_train , X_val_pf, y_valid , 0)\n"
      ],
      "execution_count": 24,
      "outputs": [
        {
          "output_type": "stream",
          "name": "stdout",
          "text": [
            "RMSE on training set:  1.1733086754242241\n",
            "RMSE on validation set:  1.1474075477418395\n"
          ]
        },
        {
          "output_type": "display_data",
          "data": {
            "text/plain": [
              "<Figure size 432x288 with 1 Axes>"
            ],
            "image/png": "[encoded data removed]"
          },
          "metadata": {
            "needs_background": "light"
          }
        }
      ]
    },
    {
      "cell_type": "code",
      "metadata": {
        "colab": {
          "base_uri": "https://localhost:8080/",
          "height": 299
        },
        "id": "jIhjkUYvzepG",
        "outputId": "7b8c5c6d-eeb7-46d4-c14b-c1853ee4e146"
      },
      "source": [
        "Result = Direct_sol_reg( X_train_pf, y_train , X_val_pf, y_valid ,15)\n"
      ],
      "execution_count": 25,
      "outputs": [
        {
          "output_type": "stream",
          "name": "stdout",
          "text": [
            "RMSE on training set:  1.2065644578090413\n",
            "RMSE on validation set:  1.1323007616713299\n"
          ]
        },
        {
          "output_type": "display_data",
          "data": {
            "text/plain": [
              "<Figure size 432x288 with 1 Axes>"
            ],
            "image/png": "[encoded data removed]"
          },
          "metadata": {
            "needs_background": "light"
          }
        }
      ]
    },
    {
      "cell_type": "markdown",
      "metadata": {
        "heading_collapsed": true,
        "id": "iQyQ3hA6bctC"
      },
      "source": [
        "#### Gradient Descent Solution"
      ]
    },
    {
      "cell_type": "markdown",
      "metadata": {
        "hidden": true,
        "id": "4nPHi1eSbctC"
      },
      "source": [
        "Gradient descent uses the equations for gradient derived above to find the direction in which we tinker the values of our parameters $w$ and $b$. "
      ]
    },
    {
      "cell_type": "markdown",
      "metadata": {
        "id": "YcGpaxKYh8tk"
      },
      "source": [
        "\n",
        "$\\frac{{\\partial J}}{\\partial w}=\\frac{1}{N}[\\sum_{i=0}^Nx^{(i)}(y^{(i)}-t^{(i)})]$\n",
        "\n",
        "$w_{j+1}=w_j-\\alpha \\times \\frac{{\\partial J}}{\\partial w}$\n",
        "\n"
      ]
    },
    {
      "cell_type": "markdown",
      "metadata": {
        "hidden": true,
        "id": "TmX3-0DYbctD"
      },
      "source": [
        "Here the term $\\alpha$ is defined as the learning rate."
      ]
    },
    {
      "cell_type": "markdown",
      "metadata": {
        "id": "gGi4Evsss4QL"
      },
      "source": [
        "![link text](https://www.eecg.utoronto.ca/~hadizade/APS1070/1.PNG)\n",
        "![link text](https://www.eecg.utoronto.ca/~hadizade/APS1070/2.PNG)"
      ]
    },
    {
      "cell_type": "code",
      "metadata": {
        "id": "9a0mIQ1PZWoQ"
      },
      "source": [
        "import math\n",
        "n = 500 # number of points\n",
        "w = 7 # slope of line\n",
        "b = -10 # y intercept of line\n",
        "r = 2 # range of data on x-axis\n",
        "w_i=[-10,7,10,20]\n",
        "np.random.seed(2)\n",
        "x =  r*np.random.rand(n)\n",
        "t = (w_i[1]*x  +  w_i[2]* np.sin(math.pi*x*2) + w_i[3]*np.cos(math.pi*x*3) + w_i[0] + 0.2 * np.random.randn(n)).reshape(-1,1) "
      ],
      "execution_count": 26,
      "outputs": []
    },
    {
      "cell_type": "code",
      "metadata": {
        "id": "9HTjGERnmQR4",
        "colab": {
          "base_uri": "https://localhost:8080/",
          "height": 282
        },
        "outputId": "a19a7fd3-e103-4855-b6b0-296eb6fa74b3"
      },
      "source": [
        "plt.scatter(x,t)"
      ],
      "execution_count": 27,
      "outputs": [
        {
          "output_type": "execute_result",
          "data": {
            "text/plain": [
              "<matplotlib.collections.PathCollection at 0x7f665b649510>"
            ]
          },
          "metadata": {},
          "execution_count": 27
        },
        {
          "output_type": "display_data",
          "data": {
            "text/plain": [
              "<Figure size 432x288 with 1 Axes>"
            ],
            "image/png": "[encoded data removed]"
          },
          "metadata": {
            "needs_background": "light"
          }
        }
      ]
    },
    {
      "cell_type": "code",
      "metadata": {
        "id": "on-xUcSwZ7zR",
        "colab": {
          "base_uri": "https://localhost:8080/"
        },
        "outputId": "c1715573-1525-4069-b302-d1fc7e43ff3a"
      },
      "source": [
        "X=x.reshape(-1,1)\n",
        "X= np.hstack((np.ones(np.shape(X)), X ,np.sin(math.pi*X*2), np.cos(math.pi*X*3) ))\n",
        "X[0:10]"
      ],
      "execution_count": 28,
      "outputs": [
        {
          "output_type": "execute_result",
          "data": {
            "text/plain": [
              "array([[ 1.        ,  0.8719898 , -0.72035346, -0.3563221 ],\n",
              "       [ 1.        ,  0.05185246,  0.32006551,  0.88294489],\n",
              "       [ 1.        ,  1.09932496,  0.58434859, -0.5929204 ],\n",
              "       [ 1.        ,  0.87064479, -0.72618934, -0.34444932],\n",
              "       [ 1.        ,  0.8407356 , -0.84184236, -0.06970818],\n",
              "       [ 1.        ,  0.66066964, -0.84657493,  0.99840313],\n",
              "       [ 1.        ,  0.40929727,  0.5395496 , -0.75447452],\n",
              "       [ 1.        ,  1.23854193,  0.99740961,  0.62677578],\n",
              "       [ 1.        ,  0.59930935, -0.584269  ,  0.80517384],\n",
              "       [ 1.        ,  0.53365455, -0.20988543,  0.3118948 ]])"
            ]
          },
          "metadata": {},
          "execution_count": 28
        }
      ]
    },
    {
      "cell_type": "code",
      "metadata": {
        "id": "RodinmiIZaQx",
        "colab": {
          "base_uri": "https://localhost:8080/",
          "height": 367
        },
        "outputId": "b376b38a-da4a-4c03-abab-981476ef9abb"
      },
      "source": [
        "w = (np.random.random(4)).reshape(1,-1) ### Inital weights\n",
        "lr = .01  ### Learning rate\n",
        "rmse_array=[]\n",
        "\n",
        "for epoch in range (0, 5000): \n",
        "  y= np.dot(X,w.T).reshape (-1,1)\n",
        "  rmse_array.append(rmse(y,t))\n",
        "  gradient = (1/len(y) * np.dot(X.T, y-t)).reshape(1,-1)\n",
        "  w = w - lr * gradient ### weight update\n",
        "\n",
        "\n",
        "print (\"X: \", X.shape)\n",
        "print (\"w: \", w.shape)\n",
        "print (\"y: \", y.shape)\n",
        "print (\"t: \", t.shape)\n",
        "print (\"gradient: \", gradient.shape)\n",
        "plt.plot(rmse_array)\n",
        "plt.xlabel(\"Epoch\")\n",
        "plt.ylabel(\"RMSE\")\n",
        "plt.show()"
      ],
      "execution_count": 29,
      "outputs": [
        {
          "output_type": "stream",
          "name": "stdout",
          "text": [
            "X:  (500, 4)\n",
            "w:  (1, 4)\n",
            "y:  (500, 1)\n",
            "t:  (500, 1)\n",
            "gradient:  (1, 4)\n"
          ]
        },
        {
          "output_type": "display_data",
          "data": {
            "text/plain": [
              "<Figure size 432x288 with 1 Axes>"
            ],
            "image/png": "[encoded data removed]"
          },
          "metadata": {
            "needs_background": "light"
          }
        }
      ]
    },
    {
      "cell_type": "code",
      "metadata": {
        "id": "tU-Zyy6OewyK",
        "colab": {
          "base_uri": "https://localhost:8080/"
        },
        "outputId": "3304dc82-74c5-464f-e48a-c784a786928d"
      },
      "source": [
        "w"
      ],
      "execution_count": 30,
      "outputs": [
        {
          "output_type": "execute_result",
          "data": {
            "text/plain": [
              "array([[-10.00834064,   6.99156109,  10.0094239 ,  19.99745073]])"
            ]
          },
          "metadata": {},
          "execution_count": 30
        }
      ]
    },
    {
      "cell_type": "markdown",
      "metadata": {
        "id": "lIbGjDjxteGh"
      },
      "source": [
        "#Mini-batch Gradient Descent!\n",
        "![link text](https://www.eecg.utoronto.ca/~hadizade/APS1070/3.PNG)"
      ]
    }
  ]
}